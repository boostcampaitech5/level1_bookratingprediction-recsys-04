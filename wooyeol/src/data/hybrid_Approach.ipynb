{
 "cells": [
  {
   "attachments": {},
   "cell_type": "markdown",
   "metadata": {},
   "source": [
    "# Hybrid Approach\n",
    "\n",
    "하이브리드 접근법은 크게 3가지 대분류와 7가지 종류로 확인할 수 있습니다.\n",
    "\n",
    "1. Monolithic hybrid designs\n",
    "> 다양한 feature를 활용하는 단일 모델\n",
    "  - Feature combination\n",
    "  - Feature Augmentation\n",
    "2. Parallelized hybrid design\n",
    "> 여러 추천 시스템 간의 병렬적인 사용\n",
    "  - Weighted\n",
    "  - Switching\n",
    "  - Mixed\n",
    "3. Pipelined hybrid designs\n",
    "> 후속 입력을 위해 일부 입력을 사전 처리하는 방식\n",
    "  - Cascade\n",
    "  - Meta‐level\n"
   ]
  },
  {
   "cell_type": "code",
   "execution_count": 1,
   "metadata": {},
   "outputs": [],
   "source": [
    "# # install packages\n",
    "# !pip install catboost -q\n",
    "# !pip install scikit-surprise -q"
   ]
  },
  {
   "cell_type": "code",
   "execution_count": 1,
   "metadata": {},
   "outputs": [],
   "source": [
    "# import packages\n",
    "import pandas as pd\n",
    "import numpy as np\n",
    "import warnings\n",
    "\n",
    "import re\n",
    "from pandas.api.types import CategoricalDtype\n",
    "from scipy import sparse\n",
    "from sklearn.preprocessing import LabelEncoder\n",
    "\n",
    "from sklearn.model_selection import train_test_split\n",
    "\n",
    "from xgboost import XGBRegressor, XGBClassifier\n",
    "from lightgbm import LGBMRegressor, LGBMClassifier, LGBMRanker\n",
    "from catboost import CatBoostRegressor, CatBoostClassifier, Pool\n",
    "\n",
    "from surprise import Dataset, Reader, accuracy, SVD, KNNBasic, CoClustering\n",
    "from surprise.dataset import DatasetAutoFolds\n",
    "\n",
    "import seaborn as sns\n",
    "import matplotlib.pyplot as plt\n",
    "warnings.filterwarnings(action='ignore')"
   ]
  },
  {
   "attachments": {},
   "cell_type": "markdown",
   "metadata": {},
   "source": [
    "## Exploratory Data Analysis, 탐색적 데이터 분석"
   ]
  },
  {
   "cell_type": "code",
   "execution_count": 2,
   "metadata": {},
   "outputs": [],
   "source": [
    "books = pd.read_csv('/opt/ml/data/books.csv')\n",
    "users = pd.read_csv('/opt/ml/data/users.csv')\n",
    "ratings = pd.read_csv('/opt/ml/data/train_ratings.csv')"
   ]
  },
  {
   "cell_type": "code",
   "execution_count": 3,
   "metadata": {},
   "outputs": [
    {
     "data": {
      "text/plain": [
       "((149570, 10), (68092, 3), (306795, 3))"
      ]
     },
     "execution_count": 3,
     "metadata": {},
     "output_type": "execute_result"
    }
   ],
   "source": [
    "books.shape, users.shape, ratings.shape"
   ]
  },
  {
   "cell_type": "code",
   "execution_count": 4,
   "metadata": {},
   "outputs": [],
   "source": [
    "books['isbn'] = books['img_url'].apply(lambda x: x.split('P/')[1][:10])"
   ]
  },
  {
   "cell_type": "code",
   "execution_count": 5,
   "metadata": {},
   "outputs": [
    {
     "name": "stdout",
     "output_type": "stream",
     "text": [
      "<<< Dataframe users Example >>>\n",
      "users shape:\n",
      " (68092, 3)\n",
      "\n",
      "col nunique:\n",
      " user_id     68092\n",
      "location    18368\n",
      "age            91\n",
      "dtype: int64\n",
      "\n"
     ]
    },
    {
     "data": {
      "text/html": [
       "<div>\n",
       "<style scoped>\n",
       "    .dataframe tbody tr th:only-of-type {\n",
       "        vertical-align: middle;\n",
       "    }\n",
       "\n",
       "    .dataframe tbody tr th {\n",
       "        vertical-align: top;\n",
       "    }\n",
       "\n",
       "    .dataframe thead th {\n",
       "        text-align: right;\n",
       "    }\n",
       "</style>\n",
       "<table border=\"1\" class=\"dataframe\">\n",
       "  <thead>\n",
       "    <tr style=\"text-align: right;\">\n",
       "      <th></th>\n",
       "      <th>user_id</th>\n",
       "      <th>location</th>\n",
       "      <th>age</th>\n",
       "    </tr>\n",
       "  </thead>\n",
       "  <tbody>\n",
       "    <tr>\n",
       "      <th>0</th>\n",
       "      <td>8</td>\n",
       "      <td>timmins, ontario, canada</td>\n",
       "      <td>NaN</td>\n",
       "    </tr>\n",
       "    <tr>\n",
       "      <th>1</th>\n",
       "      <td>11400</td>\n",
       "      <td>ottawa, ontario, canada</td>\n",
       "      <td>49.0</td>\n",
       "    </tr>\n",
       "    <tr>\n",
       "      <th>2</th>\n",
       "      <td>11676</td>\n",
       "      <td>n/a, n/a, n/a</td>\n",
       "      <td>NaN</td>\n",
       "    </tr>\n",
       "  </tbody>\n",
       "</table>\n",
       "</div>"
      ],
      "text/plain": [
       "   user_id                  location   age\n",
       "0        8  timmins, ontario, canada   NaN\n",
       "1    11400   ottawa, ontario, canada  49.0\n",
       "2    11676             n/a, n/a, n/a   NaN"
      ]
     },
     "metadata": {},
     "output_type": "display_data"
    }
   ],
   "source": [
    "print(\"<<< Dataframe users Example >>>\")\n",
    "print('users shape:\\n', users.shape)\n",
    "print('\\ncol nunique:\\n', users.nunique(),end='\\n\\n')\n",
    "display(users.head(3))"
   ]
  },
  {
   "cell_type": "code",
   "execution_count": 6,
   "metadata": {},
   "outputs": [
    {
     "name": "stdout",
     "output_type": "stream",
     "text": [
      "<<< Dataframe books Example >>>\n",
      "books shape:\n",
      " (149570, 10)\n",
      "\n",
      "col nunique:\n",
      " isbn                   149570\n",
      "book_title             135436\n",
      "book_author             62059\n",
      "year_of_publication        95\n",
      "publisher               11571\n",
      "img_url                149570\n",
      "language                   26\n",
      "category                 4292\n",
      "summary                 79872\n",
      "img_path               149570\n",
      "dtype: int64\n",
      "\n"
     ]
    },
    {
     "data": {
      "text/html": [
       "<div>\n",
       "<style scoped>\n",
       "    .dataframe tbody tr th:only-of-type {\n",
       "        vertical-align: middle;\n",
       "    }\n",
       "\n",
       "    .dataframe tbody tr th {\n",
       "        vertical-align: top;\n",
       "    }\n",
       "\n",
       "    .dataframe thead th {\n",
       "        text-align: right;\n",
       "    }\n",
       "</style>\n",
       "<table border=\"1\" class=\"dataframe\">\n",
       "  <thead>\n",
       "    <tr style=\"text-align: right;\">\n",
       "      <th></th>\n",
       "      <th>isbn</th>\n",
       "      <th>book_title</th>\n",
       "      <th>book_author</th>\n",
       "      <th>year_of_publication</th>\n",
       "      <th>publisher</th>\n",
       "      <th>img_url</th>\n",
       "      <th>language</th>\n",
       "      <th>category</th>\n",
       "      <th>summary</th>\n",
       "      <th>img_path</th>\n",
       "    </tr>\n",
       "  </thead>\n",
       "  <tbody>\n",
       "    <tr>\n",
       "      <th>0</th>\n",
       "      <td>0002005018</td>\n",
       "      <td>Clara Callan</td>\n",
       "      <td>Richard Bruce Wright</td>\n",
       "      <td>2001.0</td>\n",
       "      <td>HarperFlamingo Canada</td>\n",
       "      <td>http://images.amazon.com/images/P/0002005018.0...</td>\n",
       "      <td>en</td>\n",
       "      <td>['Actresses']</td>\n",
       "      <td>In a small town in Canada, Clara Callan reluct...</td>\n",
       "      <td>images/0002005018.01.THUMBZZZ.jpg</td>\n",
       "    </tr>\n",
       "    <tr>\n",
       "      <th>1</th>\n",
       "      <td>0060973129</td>\n",
       "      <td>Decision in Normandy</td>\n",
       "      <td>Carlo D'Este</td>\n",
       "      <td>1991.0</td>\n",
       "      <td>HarperPerennial</td>\n",
       "      <td>http://images.amazon.com/images/P/0060973129.0...</td>\n",
       "      <td>en</td>\n",
       "      <td>['1940-1949']</td>\n",
       "      <td>Here, for the first time in paperback, is an o...</td>\n",
       "      <td>images/0060973129.01.THUMBZZZ.jpg</td>\n",
       "    </tr>\n",
       "    <tr>\n",
       "      <th>2</th>\n",
       "      <td>0374157065</td>\n",
       "      <td>Flu: The Story of the Great Influenza Pandemic...</td>\n",
       "      <td>Gina Bari Kolata</td>\n",
       "      <td>1999.0</td>\n",
       "      <td>Farrar Straus Giroux</td>\n",
       "      <td>http://images.amazon.com/images/P/0374157065.0...</td>\n",
       "      <td>en</td>\n",
       "      <td>['Medical']</td>\n",
       "      <td>Describes the great flu epidemic of 1918, an o...</td>\n",
       "      <td>images/0374157065.01.THUMBZZZ.jpg</td>\n",
       "    </tr>\n",
       "  </tbody>\n",
       "</table>\n",
       "</div>"
      ],
      "text/plain": [
       "         isbn                                         book_title  \\\n",
       "0  0002005018                                       Clara Callan   \n",
       "1  0060973129                               Decision in Normandy   \n",
       "2  0374157065  Flu: The Story of the Great Influenza Pandemic...   \n",
       "\n",
       "            book_author  year_of_publication              publisher  \\\n",
       "0  Richard Bruce Wright               2001.0  HarperFlamingo Canada   \n",
       "1          Carlo D'Este               1991.0        HarperPerennial   \n",
       "2      Gina Bari Kolata               1999.0   Farrar Straus Giroux   \n",
       "\n",
       "                                             img_url language       category  \\\n",
       "0  http://images.amazon.com/images/P/0002005018.0...       en  ['Actresses']   \n",
       "1  http://images.amazon.com/images/P/0060973129.0...       en  ['1940-1949']   \n",
       "2  http://images.amazon.com/images/P/0374157065.0...       en    ['Medical']   \n",
       "\n",
       "                                             summary  \\\n",
       "0  In a small town in Canada, Clara Callan reluct...   \n",
       "1  Here, for the first time in paperback, is an o...   \n",
       "2  Describes the great flu epidemic of 1918, an o...   \n",
       "\n",
       "                            img_path  \n",
       "0  images/0002005018.01.THUMBZZZ.jpg  \n",
       "1  images/0060973129.01.THUMBZZZ.jpg  \n",
       "2  images/0374157065.01.THUMBZZZ.jpg  "
      ]
     },
     "metadata": {},
     "output_type": "display_data"
    }
   ],
   "source": [
    "print(\"<<< Dataframe books Example >>>\")\n",
    "print('books shape:\\n', books.shape)\n",
    "print('\\ncol nunique:\\n', books.nunique(),end='\\n\\n')\n",
    "display(books.head(3))"
   ]
  },
  {
   "cell_type": "code",
   "execution_count": 7,
   "metadata": {},
   "outputs": [
    {
     "name": "stdout",
     "output_type": "stream",
     "text": [
      "<<< Dataframe ratings >>>\n",
      "ratings shape:\n",
      " (306795, 3)\n",
      "\n",
      "col nunique:\n",
      " user_id     59803\n",
      "isbn       129777\n",
      "rating         10\n",
      "dtype: int64\n",
      "\n"
     ]
    },
    {
     "data": {
      "text/html": [
       "<div>\n",
       "<style scoped>\n",
       "    .dataframe tbody tr th:only-of-type {\n",
       "        vertical-align: middle;\n",
       "    }\n",
       "\n",
       "    .dataframe tbody tr th {\n",
       "        vertical-align: top;\n",
       "    }\n",
       "\n",
       "    .dataframe thead th {\n",
       "        text-align: right;\n",
       "    }\n",
       "</style>\n",
       "<table border=\"1\" class=\"dataframe\">\n",
       "  <thead>\n",
       "    <tr style=\"text-align: right;\">\n",
       "      <th></th>\n",
       "      <th>user_id</th>\n",
       "      <th>isbn</th>\n",
       "      <th>rating</th>\n",
       "    </tr>\n",
       "  </thead>\n",
       "  <tbody>\n",
       "    <tr>\n",
       "      <th>0</th>\n",
       "      <td>8</td>\n",
       "      <td>0002005018</td>\n",
       "      <td>4</td>\n",
       "    </tr>\n",
       "    <tr>\n",
       "      <th>1</th>\n",
       "      <td>67544</td>\n",
       "      <td>0002005018</td>\n",
       "      <td>7</td>\n",
       "    </tr>\n",
       "    <tr>\n",
       "      <th>2</th>\n",
       "      <td>123629</td>\n",
       "      <td>0002005018</td>\n",
       "      <td>8</td>\n",
       "    </tr>\n",
       "  </tbody>\n",
       "</table>\n",
       "</div>"
      ],
      "text/plain": [
       "   user_id        isbn  rating\n",
       "0        8  0002005018       4\n",
       "1    67544  0002005018       7\n",
       "2   123629  0002005018       8"
      ]
     },
     "metadata": {},
     "output_type": "display_data"
    }
   ],
   "source": [
    "print(\"<<< Dataframe ratings >>>\")\n",
    "print('ratings shape:\\n', ratings.shape)\n",
    "print('\\ncol nunique:\\n', ratings.nunique(),end='\\n\\n')\n",
    "display(ratings.head(3))"
   ]
  },
  {
   "attachments": {},
   "cell_type": "markdown",
   "metadata": {},
   "source": [
    "### 데이터 가공하기"
   ]
  },
  {
   "cell_type": "code",
   "execution_count": 8,
   "metadata": {},
   "outputs": [],
   "source": [
    "user2idx = {v:k for k,v in enumerate(ratings['user_id'].unique())}\n",
    "book2idx = {v:k for k,v in enumerate(ratings['isbn'].unique())}\n",
    "\n",
    "ratings['iid'] = ratings['isbn'].map(book2idx)\n",
    "ratings['uid'] = ratings['user_id'].map(user2idx)"
   ]
  },
  {
   "cell_type": "code",
   "execution_count": 9,
   "metadata": {},
   "outputs": [
    {
     "data": {
      "text/html": [
       "<div>\n",
       "<style scoped>\n",
       "    .dataframe tbody tr th:only-of-type {\n",
       "        vertical-align: middle;\n",
       "    }\n",
       "\n",
       "    .dataframe tbody tr th {\n",
       "        vertical-align: top;\n",
       "    }\n",
       "\n",
       "    .dataframe thead th {\n",
       "        text-align: right;\n",
       "    }\n",
       "</style>\n",
       "<table border=\"1\" class=\"dataframe\">\n",
       "  <thead>\n",
       "    <tr style=\"text-align: right;\">\n",
       "      <th></th>\n",
       "      <th>user_id</th>\n",
       "      <th>isbn</th>\n",
       "      <th>rating</th>\n",
       "      <th>iid</th>\n",
       "      <th>uid</th>\n",
       "    </tr>\n",
       "  </thead>\n",
       "  <tbody>\n",
       "    <tr>\n",
       "      <th>0</th>\n",
       "      <td>8</td>\n",
       "      <td>0002005018</td>\n",
       "      <td>4</td>\n",
       "      <td>0</td>\n",
       "      <td>0</td>\n",
       "    </tr>\n",
       "    <tr>\n",
       "      <th>1</th>\n",
       "      <td>67544</td>\n",
       "      <td>0002005018</td>\n",
       "      <td>7</td>\n",
       "      <td>0</td>\n",
       "      <td>1</td>\n",
       "    </tr>\n",
       "    <tr>\n",
       "      <th>2</th>\n",
       "      <td>123629</td>\n",
       "      <td>0002005018</td>\n",
       "      <td>8</td>\n",
       "      <td>0</td>\n",
       "      <td>2</td>\n",
       "    </tr>\n",
       "  </tbody>\n",
       "</table>\n",
       "</div>"
      ],
      "text/plain": [
       "   user_id        isbn  rating  iid  uid\n",
       "0        8  0002005018       4    0    0\n",
       "1    67544  0002005018       7    0    1\n",
       "2   123629  0002005018       8    0    2"
      ]
     },
     "execution_count": 9,
     "metadata": {},
     "output_type": "execute_result"
    }
   ],
   "source": [
    "ratings.head(3)"
   ]
  },
  {
   "cell_type": "code",
   "execution_count": 10,
   "metadata": {},
   "outputs": [
    {
     "name": "stdout",
     "output_type": "stream",
     "text": [
      "books 데이터 프레임의 결측치\n"
     ]
    },
    {
     "data": {
      "text/plain": [
       "isbn                       0\n",
       "book_title                 0\n",
       "book_author                0\n",
       "year_of_publication        0\n",
       "publisher                  0\n",
       "img_url                    0\n",
       "language               67227\n",
       "category               68851\n",
       "summary                67227\n",
       "img_path                   0\n",
       "dtype: int64"
      ]
     },
     "execution_count": 10,
     "metadata": {},
     "output_type": "execute_result"
    }
   ],
   "source": [
    "print('books 데이터 프레임의 결측치')\n",
    "books.isnull().sum()"
   ]
  },
  {
   "cell_type": "code",
   "execution_count": 12,
   "metadata": {},
   "outputs": [
    {
     "name": "stdout",
     "output_type": "stream",
     "text": [
      "users 데이터 프레임의 결측치\n"
     ]
    },
    {
     "data": {
      "text/plain": [
       "user_id         0\n",
       "location        0\n",
       "age         27833\n",
       "dtype: int64"
      ]
     },
     "execution_count": 12,
     "metadata": {},
     "output_type": "execute_result"
    }
   ],
   "source": [
    "print('users 데이터 프레임의 결측치')\n",
    "users.isnull().sum()"
   ]
  },
  {
   "cell_type": "code",
   "execution_count": 12,
   "metadata": {},
   "outputs": [
    {
     "name": "stdout",
     "output_type": "stream",
     "text": [
      "ratings 데이터 프레임의 결측치\n"
     ]
    },
    {
     "data": {
      "text/plain": [
       "user_id    0\n",
       "isbn       0\n",
       "rating     0\n",
       "iid        0\n",
       "uid        0\n",
       "dtype: int64"
      ]
     },
     "execution_count": 12,
     "metadata": {},
     "output_type": "execute_result"
    }
   ],
   "source": [
    "print('ratings 데이터 프레임의 결측치')\n",
    "ratings.isnull().sum()"
   ]
  },
  {
   "cell_type": "code",
   "execution_count": 13,
   "metadata": {},
   "outputs": [],
   "source": [
    "books.fillna(-1,inplace=True)\n",
    "users.fillna(-1,inplace=True)\n",
    "ratings.fillna(-1,inplace=True)"
   ]
  },
  {
   "attachments": {},
   "cell_type": "markdown",
   "metadata": {},
   "source": [
    "user-item에 대한 interaction matrix를 만들어 줍니다.\n",
    "메모리 관리를 위해 pivot 대신 coo matrix로 만듭니다."
   ]
  },
  {
   "cell_type": "code",
   "execution_count": 14,
   "metadata": {},
   "outputs": [],
   "source": [
    "from pandas.api.types import CategoricalDtype\n",
    "from scipy import sparse\n",
    "\n",
    "size_uid = ratings[\"uid\"].unique()\n",
    "size_iid = ratings[\"iid\"].unique()\n",
    "\n",
    "ui_shape = (len(size_uid), len(size_iid))\n",
    "\n",
    "user_cat = CategoricalDtype(categories=sorted(size_uid), ordered=True)\n",
    "book_cat = CategoricalDtype(categories=sorted(size_iid), ordered=True)\n",
    "\n",
    "user_index = ratings[\"uid\"].astype(user_cat).cat.codes\n",
    "book_index = ratings[\"iid\"].astype(book_cat).cat.codes\n",
    "\n",
    "interactions = sparse.coo_matrix((ratings[\"rating\"], (user_index,book_index)), shape=ui_shape)"
   ]
  },
  {
   "cell_type": "code",
   "execution_count": 15,
   "metadata": {},
   "outputs": [
    {
     "data": {
      "text/plain": [
       "(Int64Index([    0,     1,     2,     3,     4,     5,     6,     7,     8,\n",
       "                 9,\n",
       "             ...\n",
       "             59793, 59794, 59795, 59796, 59797, 59798, 59799, 59800, 59801,\n",
       "             59802],\n",
       "            dtype='int64', length=59803),\n",
       " 0            0\n",
       " 1            1\n",
       " 2            2\n",
       " 3            3\n",
       " 4            4\n",
       "           ... \n",
       " 306790    6313\n",
       " 306791    1879\n",
       " 306792    1879\n",
       " 306793    1879\n",
       " 306794    1879\n",
       " Length: 306795, dtype: int32)"
      ]
     },
     "execution_count": 15,
     "metadata": {},
     "output_type": "execute_result"
    }
   ],
   "source": [
    "user_index = ratings[\"uid\"].astype(user_cat).cat.codes\n",
    "ratings[\"uid\"].astype(user_cat).cat.categories, ratings[\"uid\"].astype(user_cat).cat.codes "
   ]
  },
  {
   "cell_type": "code",
   "execution_count": 16,
   "metadata": {},
   "outputs": [
    {
     "data": {
      "text/plain": [
       "CategoricalDtype(categories=[    0,     1,     2,     3,     4,     5,     6,     7,\n",
       "                      8,     9,\n",
       "                  ...\n",
       "                  59793, 59794, 59795, 59796, 59797, 59798, 59799, 59800,\n",
       "                  59801, 59802],\n",
       ", ordered=True)"
      ]
     },
     "execution_count": 16,
     "metadata": {},
     "output_type": "execute_result"
    }
   ],
   "source": [
    "user_cat = CategoricalDtype(categories=sorted(size_uid), ordered=True)\n",
    "user_cat"
   ]
  },
  {
   "cell_type": "code",
   "execution_count": 17,
   "metadata": {},
   "outputs": [
    {
     "data": {
      "text/plain": [
       "<59803x129777 sparse matrix of type '<class 'numpy.int64'>'\n",
       "\twith 306795 stored elements in COOrdinate format>"
      ]
     },
     "execution_count": 17,
     "metadata": {},
     "output_type": "execute_result"
    }
   ],
   "source": [
    "interactions"
   ]
  },
  {
   "cell_type": "code",
   "execution_count": 18,
   "metadata": {},
   "outputs": [],
   "source": [
    "def check_sparsity(interactions:sparse.coo_matrix)->int:\n",
    "  matrix_size = interactions.shape[0]*interactions.shape[1] # Number of possible interactions in the matrix\n",
    "  num_purchases = len(interactions.nonzero()[0]) # Number of items interacted with\n",
    "  sparsity = 100*(1 - (num_purchases/matrix_size))\n",
    "  return round(sparsity,4)"
   ]
  },
  {
   "cell_type": "code",
   "execution_count": 19,
   "metadata": {},
   "outputs": [
    {
     "name": "stdout",
     "output_type": "stream",
     "text": [
      "matrix sparsity : 99.996%\n"
     ]
    }
   ],
   "source": [
    "print(f\"matrix sparsity : {check_sparsity(interactions)}%\")"
   ]
  },
  {
   "attachments": {},
   "cell_type": "markdown",
   "metadata": {},
   "source": [
    "Train, Test를 분할합니다.\n",
    "\n",
    "- 행렬에서 0이 아닌 즉, 평가 기록이 있는 데이터\n",
    "를 랜덤하게 Train, Test 로 나눠 줍니다.\n",
    "- data를 shuffle한 후, 유저를 기준으로 나눕니다."
   ]
  },
  {
   "cell_type": "code",
   "execution_count": 20,
   "metadata": {},
   "outputs": [],
   "source": [
    "def shuffle_data(interactions:sparse.coo_matrix, random_state:int=42)->tuple:\n",
    "    random_state = np.random.RandomState(seed=random_state)\n",
    "\n",
    "    interactions = interactions.tocoo()\n",
    "\n",
    "    uids, iids, data = (interactions.row, interactions.col, interactions.data)\n",
    "\n",
    "    shuffle_indices = np.arange(len(uids))\n",
    "    random_state.shuffle(shuffle_indices)\n",
    "\n",
    "    uids = uids[shuffle_indices]\n",
    "    iids = iids[shuffle_indices]\n",
    "    data = data[shuffle_indices]\n",
    "\n",
    "    return uids, iids, data"
   ]
  },
  {
   "cell_type": "code",
   "execution_count": 21,
   "metadata": {},
   "outputs": [],
   "source": [
    "def cutoff_by_user(uids:list, test_percentage:float=0.2):\n",
    "    cutoff = int((1.0 - test_percentage) * len(uids))\n",
    "    train_idx = slice(None, cutoff)\n",
    "    test_idx = slice(cutoff, None)\n",
    "    return train_idx, test_idx"
   ]
  },
  {
   "cell_type": "code",
   "execution_count": 22,
   "metadata": {},
   "outputs": [],
   "source": [
    "# 위치에 맞게 평가 기록을 추가하는 코드를 작성합니다.\n",
    "def random_train_test_split(interactions, test_percentage=0.2, valid=None, random_state=42):\n",
    "    uids, iids, data = shuffle_data(interactions, random_state)\n",
    "    train_idx, test_idx = cutoff_by_user(uids, test_percentage)\n",
    "    shape = interactions.shape\n",
    "\n",
    "    train = sparse.coo_matrix(\n",
    "        (data[train_idx], (uids[train_idx], iids[train_idx])),\n",
    "        shape=shape,\n",
    "        dtype=interactions.dtype,\n",
    "    )\n",
    "    test = sparse.coo_matrix(\n",
    "        (data[test_idx], (uids[test_idx], iids[test_idx])),\n",
    "        shape=shape,\n",
    "        dtype=interactions.dtype,\n",
    "    )\n",
    "    return train, test"
   ]
  },
  {
   "cell_type": "code",
   "execution_count": 23,
   "metadata": {},
   "outputs": [],
   "source": [
    "train, test = random_train_test_split(interactions,test_percentage=0.2,random_state=42)"
   ]
  },
  {
   "cell_type": "code",
   "execution_count": 24,
   "metadata": {},
   "outputs": [],
   "source": [
    "train = train.tocsr()\n",
    "test = test.tocsr()"
   ]
  },
  {
   "cell_type": "code",
   "execution_count": 25,
   "metadata": {},
   "outputs": [
    {
     "data": {
      "text/plain": [
       "(<59803x129777 sparse matrix of type '<class 'numpy.int64'>'\n",
       " \twith 245436 stored elements in Compressed Sparse Row format>,\n",
       " <59803x129777 sparse matrix of type '<class 'numpy.int64'>'\n",
       " \twith 61359 stored elements in Compressed Sparse Row format>)"
      ]
     },
     "execution_count": 25,
     "metadata": {},
     "output_type": "execute_result"
    }
   ],
   "source": [
    "train, test"
   ]
  },
  {
   "attachments": {},
   "cell_type": "markdown",
   "metadata": {},
   "source": [
    "### Train / Test Split (DataFrame)\n",
    "\n",
    "GBDT 모델도 사용하기 위해 데이터프레임도 만들겠습니다.\n",
    "random_train_test_split에서 사용하였던 데이터와 동일하게 사용합니다."
   ]
  },
  {
   "cell_type": "code",
   "execution_count": 26,
   "metadata": {},
   "outputs": [],
   "source": [
    "uids, iids, data = shuffle_data(interactions)\n",
    "train_idx, test_idx = cutoff_by_user(uids)\n",
    "\n",
    "train_df = pd.DataFrame({'uid':uids[train_idx], 'iid':iids[train_idx], 'ratings':data[train_idx]})\n",
    "test_df = pd.DataFrame({'uid':uids[test_idx], 'iid':iids[test_idx], 'ratings':data[test_idx]})"
   ]
  },
  {
   "cell_type": "code",
   "execution_count": 27,
   "metadata": {},
   "outputs": [
    {
     "data": {
      "text/plain": [
       "((245436, 3), (61359, 3))"
      ]
     },
     "execution_count": 27,
     "metadata": {},
     "output_type": "execute_result"
    }
   ],
   "source": [
    "train_df.shape, test_df.shape"
   ]
  },
  {
   "cell_type": "code",
   "execution_count": 28,
   "metadata": {},
   "outputs": [
    {
     "data": {
      "text/html": [
       "<div>\n",
       "<style scoped>\n",
       "    .dataframe tbody tr th:only-of-type {\n",
       "        vertical-align: middle;\n",
       "    }\n",
       "\n",
       "    .dataframe tbody tr th {\n",
       "        vertical-align: top;\n",
       "    }\n",
       "\n",
       "    .dataframe thead th {\n",
       "        text-align: right;\n",
       "    }\n",
       "</style>\n",
       "<table border=\"1\" class=\"dataframe\">\n",
       "  <thead>\n",
       "    <tr style=\"text-align: right;\">\n",
       "      <th></th>\n",
       "      <th>uid</th>\n",
       "      <th>iid</th>\n",
       "      <th>ratings</th>\n",
       "    </tr>\n",
       "  </thead>\n",
       "  <tbody>\n",
       "    <tr>\n",
       "      <th>0</th>\n",
       "      <td>15485</td>\n",
       "      <td>1638</td>\n",
       "      <td>7</td>\n",
       "    </tr>\n",
       "    <tr>\n",
       "      <th>1</th>\n",
       "      <td>10191</td>\n",
       "      <td>13639</td>\n",
       "      <td>6</td>\n",
       "    </tr>\n",
       "    <tr>\n",
       "      <th>2</th>\n",
       "      <td>16627</td>\n",
       "      <td>125648</td>\n",
       "      <td>8</td>\n",
       "    </tr>\n",
       "    <tr>\n",
       "      <th>3</th>\n",
       "      <td>3459</td>\n",
       "      <td>103855</td>\n",
       "      <td>7</td>\n",
       "    </tr>\n",
       "    <tr>\n",
       "      <th>4</th>\n",
       "      <td>2266</td>\n",
       "      <td>795</td>\n",
       "      <td>9</td>\n",
       "    </tr>\n",
       "  </tbody>\n",
       "</table>\n",
       "</div>"
      ],
      "text/plain": [
       "     uid     iid  ratings\n",
       "0  15485    1638        7\n",
       "1  10191   13639        6\n",
       "2  16627  125648        8\n",
       "3   3459  103855        7\n",
       "4   2266     795        9"
      ]
     },
     "execution_count": 28,
     "metadata": {},
     "output_type": "execute_result"
    }
   ],
   "source": [
    "train_df.head()"
   ]
  },
  {
   "attachments": {},
   "cell_type": "markdown",
   "metadata": {},
   "source": [
    "### Feature Engineering\n",
    "\n",
    "contents based recommender 모델을 위한 여러 feature를 생성합니다."
   ]
  },
  {
   "attachments": {},
   "cell_type": "markdown",
   "metadata": {},
   "source": [
    "#### User"
   ]
  },
  {
   "cell_type": "code",
   "execution_count": 29,
   "metadata": {},
   "outputs": [],
   "source": [
    "users_location = pd.concat(\n",
    "    [users.drop('location', axis=1), \n",
    "     (users['location'].str.split(',', expand=True)\n",
    "     .assign(location_country = lambda x : np.where(x[2]=='', x[3], x[2]),\n",
    "            location_state = lambda x : x[1],\n",
    "            location_city = lambda x : x[0],\n",
    "            ) \n",
    "      )[['location_country', 'location_state', 'location_city']]\n",
    "     ], axis=1)\n",
    "\n",
    "city_tab = pd.DataFrame([['iowa city','iowa','usa'],\n",
    "['somerset', 'somerset','england'],\n",
    "['milford','massachusetts','usa'],\n",
    "['rockvale','tennessee','usa'],\n",
    "['bronx','newyork','usa'],\n",
    "['tustin','california','usa'],\n",
    "['choctaw','choctaw','usa'],\n",
    "['richmond hill','richmond hill','canada'],\n",
    "['kuala lumpur','kuala lumpur','malaysia']])\n",
    "city_tab.columns = ['city','state','country']\n",
    "\n",
    "for _,row in city_tab.iterrows():\n",
    "    location_idx = users_location['location_city'] == row.city\n",
    "    users_location.loc[location_idx,'location_city'] = row.city\n",
    "    users_location.loc[location_idx,'location_state'] = row.state\n",
    "    users_location.loc[location_idx,'location_country'] = row.country\n",
    "\n",
    "users_location.fillna('unknown',inplace=True)\n",
    "users_location['location_country'] = users_location['location_country'].str.replace('n/a','unknown')\n",
    "users_location['location_city'] = users_location['location_city'].str.replace('n/a','unknown')\n",
    "users_location['location_state'] = users_location['location_state'].str.replace('n/a','unknown')"
   ]
  },
  {
   "cell_type": "code",
   "execution_count": 30,
   "metadata": {},
   "outputs": [],
   "source": [
    "users_df = users_location.copy()\n",
    "users_df['uid'] = users_df['user_id'].map(user2idx)"
   ]
  },
  {
   "cell_type": "code",
   "execution_count": 31,
   "metadata": {},
   "outputs": [
    {
     "data": {
      "text/html": [
       "<div>\n",
       "<style scoped>\n",
       "    .dataframe tbody tr th:only-of-type {\n",
       "        vertical-align: middle;\n",
       "    }\n",
       "\n",
       "    .dataframe tbody tr th {\n",
       "        vertical-align: top;\n",
       "    }\n",
       "\n",
       "    .dataframe thead th {\n",
       "        text-align: right;\n",
       "    }\n",
       "</style>\n",
       "<table border=\"1\" class=\"dataframe\">\n",
       "  <thead>\n",
       "    <tr style=\"text-align: right;\">\n",
       "      <th></th>\n",
       "      <th>user_id</th>\n",
       "      <th>age</th>\n",
       "      <th>location_country</th>\n",
       "      <th>location_state</th>\n",
       "      <th>location_city</th>\n",
       "      <th>uid</th>\n",
       "    </tr>\n",
       "  </thead>\n",
       "  <tbody>\n",
       "    <tr>\n",
       "      <th>0</th>\n",
       "      <td>8</td>\n",
       "      <td>-1.0</td>\n",
       "      <td>canada</td>\n",
       "      <td>ontario</td>\n",
       "      <td>timmins</td>\n",
       "      <td>0.0</td>\n",
       "    </tr>\n",
       "    <tr>\n",
       "      <th>1</th>\n",
       "      <td>11400</td>\n",
       "      <td>49.0</td>\n",
       "      <td>canada</td>\n",
       "      <td>ontario</td>\n",
       "      <td>ottawa</td>\n",
       "      <td>2334.0</td>\n",
       "    </tr>\n",
       "    <tr>\n",
       "      <th>2</th>\n",
       "      <td>11676</td>\n",
       "      <td>-1.0</td>\n",
       "      <td>unknown</td>\n",
       "      <td>unknown</td>\n",
       "      <td>unknown</td>\n",
       "      <td>13.0</td>\n",
       "    </tr>\n",
       "    <tr>\n",
       "      <th>3</th>\n",
       "      <td>67544</td>\n",
       "      <td>30.0</td>\n",
       "      <td>canada</td>\n",
       "      <td>ontario</td>\n",
       "      <td>toronto</td>\n",
       "      <td>1.0</td>\n",
       "    </tr>\n",
       "    <tr>\n",
       "      <th>4</th>\n",
       "      <td>85526</td>\n",
       "      <td>36.0</td>\n",
       "      <td>canada</td>\n",
       "      <td>british columbia</td>\n",
       "      <td>victoria</td>\n",
       "      <td>4789.0</td>\n",
       "    </tr>\n",
       "  </tbody>\n",
       "</table>\n",
       "</div>"
      ],
      "text/plain": [
       "   user_id   age location_country     location_state location_city     uid\n",
       "0        8  -1.0           canada            ontario       timmins     0.0\n",
       "1    11400  49.0           canada            ontario        ottawa  2334.0\n",
       "2    11676  -1.0          unknown            unknown       unknown    13.0\n",
       "3    67544  30.0           canada            ontario       toronto     1.0\n",
       "4    85526  36.0           canada   british columbia      victoria  4789.0"
      ]
     },
     "execution_count": 31,
     "metadata": {},
     "output_type": "execute_result"
    }
   ],
   "source": [
    "users_df.head()"
   ]
  },
  {
   "cell_type": "code",
   "execution_count": 32,
   "metadata": {},
   "outputs": [
    {
     "data": {
      "text/plain": [
       "user_id                0\n",
       "age                    0\n",
       "location_country       0\n",
       "location_state         0\n",
       "location_city          0\n",
       "uid                 8289\n",
       "dtype: int64"
      ]
     },
     "execution_count": 32,
     "metadata": {},
     "output_type": "execute_result"
    }
   ],
   "source": [
    "users_df.isnull().sum()"
   ]
  },
  {
   "cell_type": "code",
   "execution_count": 33,
   "metadata": {},
   "outputs": [],
   "source": [
    "u_label = ['location_country', 'location_state', 'location_city']\n",
    "u_encoder = dict()\n",
    "for l in u_label:\n",
    "    u_encoder[l] = LabelEncoder()\n",
    "    u_encoder[l].fit(users_df[l])\n",
    "    users_df[l] = u_encoder[l].transform(users_df[l])"
   ]
  },
  {
   "cell_type": "code",
   "execution_count": 34,
   "metadata": {},
   "outputs": [],
   "source": [
    "users_df['age'] = users_df['age'].map(lambda x:x//10 if type(x)!= str else -1)"
   ]
  },
  {
   "cell_type": "code",
   "execution_count": 35,
   "metadata": {},
   "outputs": [
    {
     "data": {
      "text/html": [
       "<div>\n",
       "<style scoped>\n",
       "    .dataframe tbody tr th:only-of-type {\n",
       "        vertical-align: middle;\n",
       "    }\n",
       "\n",
       "    .dataframe tbody tr th {\n",
       "        vertical-align: top;\n",
       "    }\n",
       "\n",
       "    .dataframe thead th {\n",
       "        text-align: right;\n",
       "    }\n",
       "</style>\n",
       "<table border=\"1\" class=\"dataframe\">\n",
       "  <thead>\n",
       "    <tr style=\"text-align: right;\">\n",
       "      <th></th>\n",
       "      <th>user_id</th>\n",
       "      <th>age</th>\n",
       "      <th>location_country</th>\n",
       "      <th>location_state</th>\n",
       "      <th>location_city</th>\n",
       "      <th>uid</th>\n",
       "    </tr>\n",
       "  </thead>\n",
       "  <tbody>\n",
       "    <tr>\n",
       "      <th>0</th>\n",
       "      <td>8</td>\n",
       "      <td>-1.0</td>\n",
       "      <td>55</td>\n",
       "      <td>1050</td>\n",
       "      <td>10871</td>\n",
       "      <td>0.0</td>\n",
       "    </tr>\n",
       "    <tr>\n",
       "      <th>1</th>\n",
       "      <td>11400</td>\n",
       "      <td>4.0</td>\n",
       "      <td>55</td>\n",
       "      <td>1050</td>\n",
       "      <td>8071</td>\n",
       "      <td>2334.0</td>\n",
       "    </tr>\n",
       "    <tr>\n",
       "      <th>2</th>\n",
       "      <td>11676</td>\n",
       "      <td>-1.0</td>\n",
       "      <td>315</td>\n",
       "      <td>1428</td>\n",
       "      <td>11127</td>\n",
       "      <td>13.0</td>\n",
       "    </tr>\n",
       "    <tr>\n",
       "      <th>3</th>\n",
       "      <td>67544</td>\n",
       "      <td>3.0</td>\n",
       "      <td>55</td>\n",
       "      <td>1050</td>\n",
       "      <td>10928</td>\n",
       "      <td>1.0</td>\n",
       "    </tr>\n",
       "    <tr>\n",
       "      <th>4</th>\n",
       "      <td>85526</td>\n",
       "      <td>3.0</td>\n",
       "      <td>55</td>\n",
       "      <td>225</td>\n",
       "      <td>11310</td>\n",
       "      <td>4789.0</td>\n",
       "    </tr>\n",
       "  </tbody>\n",
       "</table>\n",
       "</div>"
      ],
      "text/plain": [
       "   user_id  age  location_country  location_state  location_city     uid\n",
       "0        8 -1.0                55            1050          10871     0.0\n",
       "1    11400  4.0                55            1050           8071  2334.0\n",
       "2    11676 -1.0               315            1428          11127    13.0\n",
       "3    67544  3.0                55            1050          10928     1.0\n",
       "4    85526  3.0                55             225          11310  4789.0"
      ]
     },
     "execution_count": 35,
     "metadata": {},
     "output_type": "execute_result"
    }
   ],
   "source": [
    "users_df.head()"
   ]
  },
  {
   "attachments": {},
   "cell_type": "markdown",
   "metadata": {},
   "source": [
    "#### Item"
   ]
  },
  {
   "cell_type": "code",
   "execution_count": 36,
   "metadata": {},
   "outputs": [],
   "source": [
    "books_df = books.copy()\n",
    "books_df['iid'] = books_df['isbn'].map(book2idx)"
   ]
  },
  {
   "cell_type": "code",
   "execution_count": 37,
   "metadata": {},
   "outputs": [],
   "source": [
    "books_df['category'] = books_df['category'].apply(lambda x: re.sub('[\\W_]+',' ',str(x)).strip())"
   ]
  },
  {
   "cell_type": "code",
   "execution_count": 38,
   "metadata": {},
   "outputs": [],
   "source": [
    "books_df['category'] = books_df['category'].astype(str)\n",
    "books_df['language'] = books_df['language'].astype(str)"
   ]
  },
  {
   "cell_type": "code",
   "execution_count": 39,
   "metadata": {},
   "outputs": [],
   "source": [
    "i_label = ['category', 'language']\n",
    "i_encoder = dict()\n",
    "for l in i_label:\n",
    "    i_encoder[l] = LabelEncoder()\n",
    "    i_encoder[l].fit(books_df[l])\n",
    "    books_df[l] = i_encoder[l].transform(books_df[l])"
   ]
  },
  {
   "cell_type": "code",
   "execution_count": 40,
   "metadata": {},
   "outputs": [],
   "source": [
    "train_context = train_df.merge(users_df,on='uid',how='left').merge(books_df, on='iid',how='left')\n",
    "test_context = test_df.merge(users_df,on='uid',how='left').merge(books_df, on='iid',how='left')"
   ]
  },
  {
   "cell_type": "code",
   "execution_count": 41,
   "metadata": {},
   "outputs": [
    {
     "data": {
      "text/plain": [
       "uid                    0\n",
       "iid                    0\n",
       "ratings                0\n",
       "user_id                0\n",
       "age                    0\n",
       "location_country       0\n",
       "location_state         0\n",
       "location_city          0\n",
       "isbn                   0\n",
       "book_title             0\n",
       "book_author            0\n",
       "year_of_publication    0\n",
       "publisher              0\n",
       "img_url                0\n",
       "language               0\n",
       "category               0\n",
       "summary                0\n",
       "img_path               0\n",
       "dtype: int64"
      ]
     },
     "execution_count": 41,
     "metadata": {},
     "output_type": "execute_result"
    }
   ],
   "source": [
    "train_context.isna().sum()"
   ]
  },
  {
   "cell_type": "code",
   "execution_count": 42,
   "metadata": {},
   "outputs": [],
   "source": [
    "X_train = train_context.drop(['user_id', 'isbn', 'iid','uid', 'ratings'], axis=1)\n",
    "y_train = train_context['ratings']\n",
    "rating_train = train_context[['uid','iid','ratings']] \n",
    "\n",
    "X_test = test_context.drop(['user_id', 'isbn', 'iid','uid', 'ratings'], axis=1)\n",
    "y_test = test_context['ratings']\n",
    "rating_test = test_context[['uid','iid','ratings']]"
   ]
  },
  {
   "cell_type": "code",
   "execution_count": 43,
   "metadata": {},
   "outputs": [
    {
     "data": {
      "text/html": [
       "<div>\n",
       "<style scoped>\n",
       "    .dataframe tbody tr th:only-of-type {\n",
       "        vertical-align: middle;\n",
       "    }\n",
       "\n",
       "    .dataframe tbody tr th {\n",
       "        vertical-align: top;\n",
       "    }\n",
       "\n",
       "    .dataframe thead th {\n",
       "        text-align: right;\n",
       "    }\n",
       "</style>\n",
       "<table border=\"1\" class=\"dataframe\">\n",
       "  <thead>\n",
       "    <tr style=\"text-align: right;\">\n",
       "      <th></th>\n",
       "      <th>age</th>\n",
       "      <th>location_country</th>\n",
       "      <th>location_state</th>\n",
       "      <th>location_city</th>\n",
       "      <th>book_title</th>\n",
       "      <th>book_author</th>\n",
       "      <th>year_of_publication</th>\n",
       "      <th>publisher</th>\n",
       "      <th>img_url</th>\n",
       "      <th>language</th>\n",
       "      <th>category</th>\n",
       "      <th>summary</th>\n",
       "      <th>img_path</th>\n",
       "    </tr>\n",
       "  </thead>\n",
       "  <tbody>\n",
       "    <tr>\n",
       "      <th>0</th>\n",
       "      <td>-1.0</td>\n",
       "      <td>320</td>\n",
       "      <td>1045</td>\n",
       "      <td>2340</td>\n",
       "      <td>A Lesson Before Dying (Vintage Contemporaries ...</td>\n",
       "      <td>Ernest J. Gaines</td>\n",
       "      <td>1997.0</td>\n",
       "      <td>Vintage Books USA</td>\n",
       "      <td>http://images.amazon.com/images/P/0375702709.0...</td>\n",
       "      <td>5</td>\n",
       "      <td>153</td>\n",
       "      <td>A Lesson Before Dying tells the story of these...</td>\n",
       "      <td>images/0375702709.01.THUMBZZZ.jpg</td>\n",
       "    </tr>\n",
       "    <tr>\n",
       "      <th>1</th>\n",
       "      <td>1.0</td>\n",
       "      <td>320</td>\n",
       "      <td>823</td>\n",
       "      <td>388</td>\n",
       "      <td>Confessional</td>\n",
       "      <td>Jack Higgins</td>\n",
       "      <td>1986.0</td>\n",
       "      <td>Signet Book</td>\n",
       "      <td>http://images.amazon.com/images/P/0451143752.0...</td>\n",
       "      <td>0</td>\n",
       "      <td>2</td>\n",
       "      <td>-1</td>\n",
       "      <td>images/0451143752.01.THUMBZZZ.jpg</td>\n",
       "    </tr>\n",
       "    <tr>\n",
       "      <th>2</th>\n",
       "      <td>5.0</td>\n",
       "      <td>320</td>\n",
       "      <td>1045</td>\n",
       "      <td>2340</td>\n",
       "      <td>Eyes of a Child: A Novel</td>\n",
       "      <td>Richard North Patterson</td>\n",
       "      <td>1994.0</td>\n",
       "      <td>Random House Trade</td>\n",
       "      <td>http://images.amazon.com/images/P/0679439528.0...</td>\n",
       "      <td>0</td>\n",
       "      <td>2</td>\n",
       "      <td>-1</td>\n",
       "      <td>images/0679439528.01.THUMBZZZ.jpg</td>\n",
       "    </tr>\n",
       "    <tr>\n",
       "      <th>3</th>\n",
       "      <td>3.0</td>\n",
       "      <td>320</td>\n",
       "      <td>1045</td>\n",
       "      <td>4400</td>\n",
       "      <td>Day of Wrath</td>\n",
       "      <td>Jonathan Valin</td>\n",
       "      <td>1994.0</td>\n",
       "      <td>Dell Publishing Company</td>\n",
       "      <td>http://images.amazon.com/images/P/0440210410.0...</td>\n",
       "      <td>0</td>\n",
       "      <td>2</td>\n",
       "      <td>-1</td>\n",
       "      <td>images/0440210410.01.THUMBZZZ.jpg</td>\n",
       "    </tr>\n",
       "    <tr>\n",
       "      <th>4</th>\n",
       "      <td>3.0</td>\n",
       "      <td>320</td>\n",
       "      <td>635</td>\n",
       "      <td>2066</td>\n",
       "      <td>Girl in Hyacinth Blue</td>\n",
       "      <td>Susan Vreeland</td>\n",
       "      <td>2000.0</td>\n",
       "      <td>Penguin Books</td>\n",
       "      <td>http://images.amazon.com/images/P/014029628X.0...</td>\n",
       "      <td>0</td>\n",
       "      <td>2</td>\n",
       "      <td>-1</td>\n",
       "      <td>images/014029628X.01.THUMBZZZ.jpg</td>\n",
       "    </tr>\n",
       "  </tbody>\n",
       "</table>\n",
       "</div>"
      ],
      "text/plain": [
       "   age  location_country  location_state  location_city  \\\n",
       "0 -1.0               320            1045           2340   \n",
       "1  1.0               320             823            388   \n",
       "2  5.0               320            1045           2340   \n",
       "3  3.0               320            1045           4400   \n",
       "4  3.0               320             635           2066   \n",
       "\n",
       "                                          book_title              book_author  \\\n",
       "0  A Lesson Before Dying (Vintage Contemporaries ...         Ernest J. Gaines   \n",
       "1                                       Confessional             Jack Higgins   \n",
       "2                           Eyes of a Child: A Novel  Richard North Patterson   \n",
       "3                                       Day of Wrath           Jonathan Valin   \n",
       "4                              Girl in Hyacinth Blue           Susan Vreeland   \n",
       "\n",
       "   year_of_publication                publisher  \\\n",
       "0               1997.0        Vintage Books USA   \n",
       "1               1986.0              Signet Book   \n",
       "2               1994.0       Random House Trade   \n",
       "3               1994.0  Dell Publishing Company   \n",
       "4               2000.0            Penguin Books   \n",
       "\n",
       "                                             img_url  language  category  \\\n",
       "0  http://images.amazon.com/images/P/0375702709.0...         5       153   \n",
       "1  http://images.amazon.com/images/P/0451143752.0...         0         2   \n",
       "2  http://images.amazon.com/images/P/0679439528.0...         0         2   \n",
       "3  http://images.amazon.com/images/P/0440210410.0...         0         2   \n",
       "4  http://images.amazon.com/images/P/014029628X.0...         0         2   \n",
       "\n",
       "                                             summary  \\\n",
       "0  A Lesson Before Dying tells the story of these...   \n",
       "1                                                 -1   \n",
       "2                                                 -1   \n",
       "3                                                 -1   \n",
       "4                                                 -1   \n",
       "\n",
       "                            img_path  \n",
       "0  images/0375702709.01.THUMBZZZ.jpg  \n",
       "1  images/0451143752.01.THUMBZZZ.jpg  \n",
       "2  images/0679439528.01.THUMBZZZ.jpg  \n",
       "3  images/0440210410.01.THUMBZZZ.jpg  \n",
       "4  images/014029628X.01.THUMBZZZ.jpg  "
      ]
     },
     "execution_count": 43,
     "metadata": {},
     "output_type": "execute_result"
    }
   ],
   "source": [
    "X_train.head()"
   ]
  },
  {
   "cell_type": "code",
   "execution_count": 44,
   "metadata": {},
   "outputs": [
    {
     "data": {
      "text/plain": [
       "0    7\n",
       "1    6\n",
       "2    8\n",
       "3    7\n",
       "4    9\n",
       "Name: ratings, dtype: int64"
      ]
     },
     "execution_count": 44,
     "metadata": {},
     "output_type": "execute_result"
    }
   ],
   "source": [
    "y_train.head()"
   ]
  },
  {
   "cell_type": "code",
   "execution_count": 45,
   "metadata": {},
   "outputs": [
    {
     "data": {
      "text/html": [
       "<div>\n",
       "<style scoped>\n",
       "    .dataframe tbody tr th:only-of-type {\n",
       "        vertical-align: middle;\n",
       "    }\n",
       "\n",
       "    .dataframe tbody tr th {\n",
       "        vertical-align: top;\n",
       "    }\n",
       "\n",
       "    .dataframe thead th {\n",
       "        text-align: right;\n",
       "    }\n",
       "</style>\n",
       "<table border=\"1\" class=\"dataframe\">\n",
       "  <thead>\n",
       "    <tr style=\"text-align: right;\">\n",
       "      <th></th>\n",
       "      <th>uid</th>\n",
       "      <th>iid</th>\n",
       "      <th>ratings</th>\n",
       "    </tr>\n",
       "  </thead>\n",
       "  <tbody>\n",
       "    <tr>\n",
       "      <th>0</th>\n",
       "      <td>41848</td>\n",
       "      <td>33783</td>\n",
       "      <td>9</td>\n",
       "    </tr>\n",
       "    <tr>\n",
       "      <th>1</th>\n",
       "      <td>6538</td>\n",
       "      <td>2644</td>\n",
       "      <td>8</td>\n",
       "    </tr>\n",
       "    <tr>\n",
       "      <th>2</th>\n",
       "      <td>11221</td>\n",
       "      <td>81890</td>\n",
       "      <td>10</td>\n",
       "    </tr>\n",
       "    <tr>\n",
       "      <th>3</th>\n",
       "      <td>16021</td>\n",
       "      <td>6142</td>\n",
       "      <td>9</td>\n",
       "    </tr>\n",
       "    <tr>\n",
       "      <th>4</th>\n",
       "      <td>4632</td>\n",
       "      <td>89180</td>\n",
       "      <td>3</td>\n",
       "    </tr>\n",
       "    <tr>\n",
       "      <th>...</th>\n",
       "      <td>...</td>\n",
       "      <td>...</td>\n",
       "      <td>...</td>\n",
       "    </tr>\n",
       "    <tr>\n",
       "      <th>61354</th>\n",
       "      <td>2752</td>\n",
       "      <td>14936</td>\n",
       "      <td>6</td>\n",
       "    </tr>\n",
       "    <tr>\n",
       "      <th>61355</th>\n",
       "      <td>8108</td>\n",
       "      <td>86566</td>\n",
       "      <td>7</td>\n",
       "    </tr>\n",
       "    <tr>\n",
       "      <th>61356</th>\n",
       "      <td>10534</td>\n",
       "      <td>18168</td>\n",
       "      <td>5</td>\n",
       "    </tr>\n",
       "    <tr>\n",
       "      <th>61357</th>\n",
       "      <td>40246</td>\n",
       "      <td>22419</td>\n",
       "      <td>8</td>\n",
       "    </tr>\n",
       "    <tr>\n",
       "      <th>61358</th>\n",
       "      <td>24097</td>\n",
       "      <td>15452</td>\n",
       "      <td>10</td>\n",
       "    </tr>\n",
       "  </tbody>\n",
       "</table>\n",
       "<p>61359 rows × 3 columns</p>\n",
       "</div>"
      ],
      "text/plain": [
       "         uid    iid  ratings\n",
       "0      41848  33783        9\n",
       "1       6538   2644        8\n",
       "2      11221  81890       10\n",
       "3      16021   6142        9\n",
       "4       4632  89180        3\n",
       "...      ...    ...      ...\n",
       "61354   2752  14936        6\n",
       "61355   8108  86566        7\n",
       "61356  10534  18168        5\n",
       "61357  40246  22419        8\n",
       "61358  24097  15452       10\n",
       "\n",
       "[61359 rows x 3 columns]"
      ]
     },
     "execution_count": 45,
     "metadata": {},
     "output_type": "execute_result"
    }
   ],
   "source": [
    "rating_test"
   ]
  },
  {
   "cell_type": "code",
   "execution_count": 46,
   "metadata": {},
   "outputs": [],
   "source": [
    "drop_lst = ['book_title','book_author','publisher','img_url','img_path','summary']\n",
    "\n",
    "X_train.drop(drop_lst,axis=1,inplace=True)\n",
    "X_test.drop(drop_lst,axis=1,inplace=True)"
   ]
  },
  {
   "attachments": {},
   "cell_type": "markdown",
   "metadata": {},
   "source": [
    "마찬가지로 RAM 관리를 위해 사용하지 않는 데이터 프레임을 삭제할 수도 있습니다. magic command 를 사용하여 현행 정의해놓은 변수 목록을 확인한 후, 삭제 가능합니다. (*길이상 주석처리하여 놓았습니다.)"
   ]
  },
  {
   "cell_type": "code",
   "execution_count": 47,
   "metadata": {},
   "outputs": [
    {
     "name": "stdout",
     "output_type": "stream",
     "text": [
      "Variable                  Type                Data/Info\n",
      "-------------------------------------------------------\n",
      "CatBoostClassifier        type                <class 'catboost.core.CatBoostClassifier'>\n",
      "CatBoostRegressor         type                <class 'catboost.core.CatBoostRegressor'>\n",
      "CategoricalDtype          type                <class 'pandas.core.dtype<...>dtypes.CategoricalDtype'>\n",
      "CoClustering              type                <class 'surprise.predicti<...>clustering.CoClustering'>\n",
      "Dataset                   type                <class 'surprise.dataset.Dataset'>\n",
      "DatasetAutoFolds          type                <class 'surprise.dataset.DatasetAutoFolds'>\n",
      "KNNBasic                  type                <class 'surprise.predicti<...>lgorithms.knns.KNNBasic'>\n",
      "LGBMClassifier            type                <class 'lightgbm.sklearn.LGBMClassifier'>\n",
      "LGBMRanker                type                <class 'lightgbm.sklearn.LGBMRanker'>\n",
      "LGBMRegressor             type                <class 'lightgbm.sklearn.LGBMRegressor'>\n",
      "LabelEncoder              type                <class 'sklearn.preproces<...>ing._label.LabelEncoder'>\n",
      "Pool                      type                <class 'catboost.core.Pool'>\n",
      "Reader                    type                <class 'surprise.reader.Reader'>\n",
      "SVD                       type                <class 'surprise.predicti<...>atrix_factorization.SVD'>\n",
      "XGBClassifier             type                <class 'xgboost.sklearn.XGBClassifier'>\n",
      "XGBRegressor              type                <class 'xgboost.sklearn.XGBRegressor'>\n",
      "X_test                    DataFrame                  age  location_coun<...>n[61359 rows x 7 columns]\n",
      "X_train                   DataFrame                   age  location_cou<...>[245436 rows x 7 columns]\n",
      "accuracy                  module              <module 'surprise.accurac<...>es/surprise/accuracy.py'>\n",
      "book2idx                  dict                n=129777\n",
      "book_cat                  CategoricalDtype    category\n",
      "book_index                Series              0              0\\n1      <...>gth: 306795, dtype: int32\n",
      "books                     DataFrame                         isbn       <...>149570 rows x 10 columns]\n",
      "books_df                  DataFrame                         isbn       <...>149570 rows x 11 columns]\n",
      "check_sparsity            function            <function check_sparsity at 0x7f29a2666dc0>\n",
      "city_tab                  DataFrame                       city         <...>   kuala lumpur  malaysia\n",
      "cutoff_by_user            function            <function cutoff_by_user at 0x7f2a0cadc4c0>\n",
      "data                      ndarray             306795: 306795 elems, type `int64`, 2454360 bytes (2.3406600952148438 Mb)\n",
      "drop_lst                  list                n=6\n",
      "i_encoder                 dict                n=2\n",
      "i_label                   list                n=2\n",
      "iids                      ndarray             306795: 306795 elems, type `int32`, 1227180 bytes (1.1703300476074219 Mb)\n",
      "interactions              coo_matrix            (0, 0)\t4\\n  (1, 0)\t7\\n <...>5)\t7\\n  (1879, 129776)\t10\n",
      "l                         str                 language\n",
      "location_idx              Series              0        False\\n1        <...>ength: 68092, dtype: bool\n",
      "np                        module              <module 'numpy' from '/op<...>kages/numpy/__init__.py'>\n",
      "pd                        module              <module 'pandas' from '/o<...>ages/pandas/__init__.py'>\n",
      "plt                       module              <module 'matplotlib.pyplo<...>es/matplotlib/pyplot.py'>\n",
      "random_train_test_split   function            <function random_train_te<...>_split at 0x7f29a7cdc310>\n",
      "rating_test               DataFrame                    uid    iid  rati<...>n[61359 rows x 3 columns]\n",
      "rating_train              DataFrame                     uid     iid  ra<...>[245436 rows x 3 columns]\n",
      "ratings                   DataFrame                   user_id        is<...>[306795 rows x 5 columns]\n",
      "re                        module              <module 're' from '/opt/c<...>sys/lib/python3.8/re.py'>\n",
      "row                       Series              city       kuala lumpur\\n<...>a\\nName: 8, dtype: object\n",
      "shuffle_data              function            <function shuffle_data at 0x7f29a2666160>\n",
      "size_iid                  ndarray             129777: 129777 elems, type `int64`, 1038216 bytes (1013.8828125 kb)\n",
      "size_uid                  ndarray             59803: 59803 elems, type `int64`, 478424 bytes (467.2109375 kb)\n",
      "sns                       module              <module 'seaborn' from '/<...>ges/seaborn/__init__.py'>\n",
      "sparse                    module              <module 'scipy.sparse' fr<...>cipy/sparse/__init__.py'>\n",
      "test                      csr_matrix            (0, 12)\t7\\n  (1, 313)\t7<...>)\t10\\n  (59802, 129770)\t7\n",
      "test_context              DataFrame                    uid    iid  rati<...>[61359 rows x 18 columns]\n",
      "test_df                   DataFrame                    uid    iid  rati<...>n[61359 rows x 3 columns]\n",
      "test_idx                  slice               slice(245436, None, None)\n",
      "train                     csr_matrix            (0, 0)\t4\\n  (0, 5)\t4\\n <...>)\t2\\n  (59801, 129769)\t10\n",
      "train_context             DataFrame                     uid     iid  ra<...>245436 rows x 18 columns]\n",
      "train_df                  DataFrame                     uid     iid  ra<...>[245436 rows x 3 columns]\n",
      "train_idx                 slice               slice(None, 245436, None)\n",
      "train_test_split          function            <function train_test_split at 0x7f29c8c059d0>\n",
      "u_encoder                 dict                n=3\n",
      "u_label                   list                n=3\n",
      "ui_shape                  tuple               n=2\n",
      "uids                      ndarray             306795: 306795 elems, type `int32`, 1227180 bytes (1.1703300476074219 Mb)\n",
      "user2idx                  dict                n=59803\n",
      "user_cat                  CategoricalDtype    category\n",
      "user_index                Series              0            0\\n1        <...>gth: 306795, dtype: int32\n",
      "users                     DataFrame                  user_id           <...>n[68092 rows x 3 columns]\n",
      "users_df                  DataFrame                  user_id  age  loca<...>n[68092 rows x 6 columns]\n",
      "users_location            DataFrame                  user_id   age loca<...>n[68092 rows x 5 columns]\n",
      "warnings                  module              <module 'warnings' from '<...>b/python3.8/warnings.py'>\n",
      "y_test                    Series              0         9\\n1         8\\<...>ngth: 61359, dtype: int64\n",
      "y_train                   Series              0         7\\n1         6\\<...>gth: 245436, dtype: int64\n"
     ]
    }
   ],
   "source": [
    "%whos"
   ]
  },
  {
   "cell_type": "code",
   "execution_count": 48,
   "metadata": {},
   "outputs": [],
   "source": [
    "del ratings, users, books, books_df, users_df, users_location, city_tab"
   ]
  },
  {
   "cell_type": "code",
   "execution_count": 49,
   "metadata": {},
   "outputs": [],
   "source": [
    "def modify_range(rating):\n",
    "  if rating < 0:\n",
    "    return 0\n",
    "  elif rating > 10:\n",
    "    return 10\n",
    "  else:\n",
    "    return rating"
   ]
  },
  {
   "cell_type": "code",
   "execution_count": 50,
   "metadata": {},
   "outputs": [],
   "source": [
    "def rmse(real, predict):\n",
    "  pred = list(map(modify_range, predict))  \n",
    "  pred = np.array(pred)\n",
    "  return np.sqrt(np.mean((real-pred) ** 2))"
   ]
  },
  {
   "cell_type": "code",
   "execution_count": 51,
   "metadata": {},
   "outputs": [],
   "source": [
    "def matrix_rmse(real_mat, predict_mat, test_ind=test_idx):\n",
    "  cost = 0\n",
    "\n",
    "  for i, ind in enumerate(test_ind):\n",
    "    pred = predict_mat[ind]\n",
    "    real = real_mat[ind]\n",
    "    cost += pow(real - modify_range(pred), 2)\n",
    "  return np.sqrt(cost/ len(test_ind)) "
   ]
  },
  {
   "attachments": {},
   "cell_type": "markdown",
   "metadata": {},
   "source": [
    "## 단일 모델 확보"
   ]
  },
  {
   "attachments": {},
   "cell_type": "markdown",
   "metadata": {},
   "source": [
    "### SVD"
   ]
  },
  {
   "cell_type": "code",
   "execution_count": 52,
   "metadata": {},
   "outputs": [],
   "source": [
    "reader = Reader(rating_scale=(1, 10))\n",
    "train_data = Dataset.load_from_df(train_df[['uid', 'iid', 'ratings']], reader)\n",
    "test_data = Dataset.load_from_df(test_df[['uid', 'iid', 'ratings']], reader)"
   ]
  },
  {
   "cell_type": "code",
   "execution_count": 54,
   "metadata": {},
   "outputs": [],
   "source": [
    "fold = DatasetAutoFolds(df = train_df[['uid', 'iid', 'ratings']], reader = reader)\n",
    "trainset = fold.build_full_trainset()"
   ]
  },
  {
   "cell_type": "code",
   "execution_count": 55,
   "metadata": {},
   "outputs": [
    {
     "data": {
      "text/plain": [
       "<surprise.trainset.Trainset at 0x7f29b7181d00>"
      ]
     },
     "execution_count": 55,
     "metadata": {},
     "output_type": "execute_result"
    }
   ],
   "source": [
    "trainset"
   ]
  },
  {
   "cell_type": "code",
   "execution_count": 67,
   "metadata": {},
   "outputs": [],
   "source": [
    "params = {'n_factors':10,\n",
    "          'n_epochs':20,\n",
    "          'lr_all':0.005,\n",
    "          'reg_all':0.02}\n",
    "\n",
    "svd = SVD(**params,random_state=42)\n"
   ]
  },
  {
   "cell_type": "code",
   "execution_count": 68,
   "metadata": {},
   "outputs": [
    {
     "data": {
      "text/plain": [
       "<surprise.prediction_algorithms.matrix_factorization.SVD at 0x7f29aa57f160>"
      ]
     },
     "execution_count": 68,
     "metadata": {},
     "output_type": "execute_result"
    }
   ],
   "source": [
    "svd.fit(trainset)"
   ]
  },
  {
   "cell_type": "code",
   "execution_count": 69,
   "metadata": {},
   "outputs": [],
   "source": [
    "uir_tuple = list(zip(test_df['uid'], test_df['iid'],test_df['ratings']))"
   ]
  },
  {
   "cell_type": "code",
   "execution_count": 70,
   "metadata": {},
   "outputs": [],
   "source": [
    "svd_test = svd.test(uir_tuple)"
   ]
  },
  {
   "cell_type": "code",
   "execution_count": 71,
   "metadata": {},
   "outputs": [
    {
     "data": {
      "text/plain": [
       "7     28590\n",
       "8     15775\n",
       "6      8060\n",
       "9      4819\n",
       "5      2119\n",
       "4       775\n",
       "3       728\n",
       "10      438\n",
       "2        46\n",
       "1         9\n",
       "dtype: int64"
      ]
     },
     "execution_count": 71,
     "metadata": {},
     "output_type": "execute_result"
    }
   ],
   "source": [
    "svd_pred = list(map(lambda x:round(x.est), svd_test))\n",
    "pd.Series(svd_pred).value_counts()"
   ]
  },
  {
   "attachments": {},
   "cell_type": "markdown",
   "metadata": {},
   "source": [
    "모델의 성능을 파악하기 위한 score dictionary를 생성하고, SVD 모델의 RMSE를 기록합니다.\n",
    "파라미터 또한 기록하여 줍니다."
   ]
  },
  {
   "cell_type": "code",
   "execution_count": 72,
   "metadata": {},
   "outputs": [],
   "source": [
    "param = {}\n",
    "param['svd'] = params"
   ]
  },
  {
   "cell_type": "code",
   "execution_count": 73,
   "metadata": {},
   "outputs": [],
   "source": [
    "score = {}\n",
    "score['svd'] = rmse(y_test, svd_pred)"
   ]
  },
  {
   "cell_type": "code",
   "execution_count": 74,
   "metadata": {},
   "outputs": [],
   "source": [
    "pred = {}\n",
    "pred['svd'] = svd_pred"
   ]
  },
  {
   "cell_type": "code",
   "execution_count": 75,
   "metadata": {},
   "outputs": [
    {
     "name": "stdout",
     "output_type": "stream",
     "text": [
      "RMSE of svd : 2.2048\n"
     ]
    }
   ],
   "source": [
    "rmse_v = score['svd']\n",
    "print(f\"RMSE of svd : {round(rmse_v,4)}\")"
   ]
  },
  {
   "attachments": {},
   "cell_type": "markdown",
   "metadata": {},
   "source": [
    "### Co-clustering\n",
    "사용자와 아이템에 각각 $C_\n",
    "u$,$C_i$,$C_ui$ 클러스터가 부여되고, 이에 대한 평균 평점에서부터 평점을 계산합니다.\n",
    "\n",
    "\n",
    "$$\n",
    "\\hat{r}_{ui} = \\overline{C_{ui}} + (\\mu_u - \\overline{C_u}) + (\\mu_i- \\overline{C_i})\n",
    "$$"
   ]
  },
  {
   "cell_type": "code",
   "execution_count": 70,
   "metadata": {},
   "outputs": [],
   "source": [
    "params = {'n_cltr_u':10, 'n_cltr_i':10, 'n_epochs':20}\n",
    "param['coclu'] = params"
   ]
  },
  {
   "cell_type": "code",
   "execution_count": 71,
   "metadata": {},
   "outputs": [
    {
     "name": "stdout",
     "output_type": "stream",
     "text": [
      "Processing epoch 0\n",
      "Processing epoch 1\n",
      "Processing epoch 2\n",
      "Processing epoch 3\n",
      "Processing epoch 4\n",
      "Processing epoch 5\n",
      "Processing epoch 6\n",
      "Processing epoch 7\n",
      "Processing epoch 8\n",
      "Processing epoch 9\n",
      "Processing epoch 10\n",
      "Processing epoch 11\n",
      "Processing epoch 12\n",
      "Processing epoch 13\n",
      "Processing epoch 14\n",
      "Processing epoch 15\n",
      "Processing epoch 16\n",
      "Processing epoch 17\n",
      "Processing epoch 18\n",
      "Processing epoch 19\n"
     ]
    },
    {
     "data": {
      "text/plain": [
       "<surprise.prediction_algorithms.co_clustering.CoClustering at 0x7fc65ce685b0>"
      ]
     },
     "execution_count": 71,
     "metadata": {},
     "output_type": "execute_result"
    }
   ],
   "source": [
    "coclu = CoClustering(**params, random_state=42, verbose=True)\n",
    "coclu.fit(trainset)"
   ]
  },
  {
   "cell_type": "code",
   "execution_count": 72,
   "metadata": {},
   "outputs": [],
   "source": [
    "coclu_test = coclu.test(uir_tuple)"
   ]
  },
  {
   "cell_type": "code",
   "execution_count": 73,
   "metadata": {},
   "outputs": [
    {
     "data": {
      "text/plain": [
       "7     32177\n",
       "8      8233\n",
       "9      5971\n",
       "6      4491\n",
       "10     4174\n",
       "5      2650\n",
       "4      1460\n",
       "3       996\n",
       "1       607\n",
       "2       600\n",
       "dtype: int64"
      ]
     },
     "execution_count": 73,
     "metadata": {},
     "output_type": "execute_result"
    }
   ],
   "source": [
    "coclu_pred = list(map(lambda x:round(x.est), coclu_test))\n",
    "pd.Series(coclu_pred).value_counts()"
   ]
  },
  {
   "cell_type": "code",
   "execution_count": 74,
   "metadata": {},
   "outputs": [],
   "source": [
    "pred['coclu'] = coclu_pred"
   ]
  },
  {
   "cell_type": "code",
   "execution_count": 75,
   "metadata": {},
   "outputs": [],
   "source": [
    "score['coclu'] = rmse(y_test, coclu_pred)"
   ]
  },
  {
   "cell_type": "code",
   "execution_count": 76,
   "metadata": {},
   "outputs": [
    {
     "name": "stdout",
     "output_type": "stream",
     "text": [
      "RMSE of coclustering : 2.5071\n"
     ]
    }
   ],
   "source": [
    "rmse_v = score['coclu']\n",
    "print(f\"RMSE of coclustering : {round(rmse_v,4)}\")"
   ]
  },
  {
   "attachments": {},
   "cell_type": "markdown",
   "metadata": {},
   "source": [
    "### LGBM"
   ]
  },
  {
   "cell_type": "code",
   "execution_count": 77,
   "metadata": {},
   "outputs": [],
   "source": [
    "params = {'objective':'rmse',\n",
    "  'boosting_type':'gbdt',\n",
    "  'lambda': 0.1,\n",
    " 'learning_rate': 0.03,\n",
    " 'max_depth': 34,\n",
    " 'num_leaves': 34,\n",
    " 'n_epochs': 18}\n",
    "param['lgbm'] = params"
   ]
  },
  {
   "cell_type": "code",
   "execution_count": 78,
   "metadata": {},
   "outputs": [
    {
     "name": "stdout",
     "output_type": "stream",
     "text": [
      "[LightGBM] [Warning] Unknown parameter: n_epochs\n",
      "[LightGBM] [Warning] lambda_l2 is set with lambda=0.1, reg_lambda=0.0 will be ignored. Current value: lambda_l2=0.1\n"
     ]
    },
    {
     "data": {
      "text/html": [
       "<style>#sk-container-id-1 {color: black;background-color: white;}#sk-container-id-1 pre{padding: 0;}#sk-container-id-1 div.sk-toggleable {background-color: white;}#sk-container-id-1 label.sk-toggleable__label {cursor: pointer;display: block;width: 100%;margin-bottom: 0;padding: 0.3em;box-sizing: border-box;text-align: center;}#sk-container-id-1 label.sk-toggleable__label-arrow:before {content: \"▸\";float: left;margin-right: 0.25em;color: #696969;}#sk-container-id-1 label.sk-toggleable__label-arrow:hover:before {color: black;}#sk-container-id-1 div.sk-estimator:hover label.sk-toggleable__label-arrow:before {color: black;}#sk-container-id-1 div.sk-toggleable__content {max-height: 0;max-width: 0;overflow: hidden;text-align: left;background-color: #f0f8ff;}#sk-container-id-1 div.sk-toggleable__content pre {margin: 0.2em;color: black;border-radius: 0.25em;background-color: #f0f8ff;}#sk-container-id-1 input.sk-toggleable__control:checked~div.sk-toggleable__content {max-height: 200px;max-width: 100%;overflow: auto;}#sk-container-id-1 input.sk-toggleable__control:checked~label.sk-toggleable__label-arrow:before {content: \"▾\";}#sk-container-id-1 div.sk-estimator input.sk-toggleable__control:checked~label.sk-toggleable__label {background-color: #d4ebff;}#sk-container-id-1 div.sk-label input.sk-toggleable__control:checked~label.sk-toggleable__label {background-color: #d4ebff;}#sk-container-id-1 input.sk-hidden--visually {border: 0;clip: rect(1px 1px 1px 1px);clip: rect(1px, 1px, 1px, 1px);height: 1px;margin: -1px;overflow: hidden;padding: 0;position: absolute;width: 1px;}#sk-container-id-1 div.sk-estimator {font-family: monospace;background-color: #f0f8ff;border: 1px dotted black;border-radius: 0.25em;box-sizing: border-box;margin-bottom: 0.5em;}#sk-container-id-1 div.sk-estimator:hover {background-color: #d4ebff;}#sk-container-id-1 div.sk-parallel-item::after {content: \"\";width: 100%;border-bottom: 1px solid gray;flex-grow: 1;}#sk-container-id-1 div.sk-label:hover label.sk-toggleable__label {background-color: #d4ebff;}#sk-container-id-1 div.sk-serial::before {content: \"\";position: absolute;border-left: 1px solid gray;box-sizing: border-box;top: 0;bottom: 0;left: 50%;z-index: 0;}#sk-container-id-1 div.sk-serial {display: flex;flex-direction: column;align-items: center;background-color: white;padding-right: 0.2em;padding-left: 0.2em;position: relative;}#sk-container-id-1 div.sk-item {position: relative;z-index: 1;}#sk-container-id-1 div.sk-parallel {display: flex;align-items: stretch;justify-content: center;background-color: white;position: relative;}#sk-container-id-1 div.sk-item::before, #sk-container-id-1 div.sk-parallel-item::before {content: \"\";position: absolute;border-left: 1px solid gray;box-sizing: border-box;top: 0;bottom: 0;left: 50%;z-index: -1;}#sk-container-id-1 div.sk-parallel-item {display: flex;flex-direction: column;z-index: 1;position: relative;background-color: white;}#sk-container-id-1 div.sk-parallel-item:first-child::after {align-self: flex-end;width: 50%;}#sk-container-id-1 div.sk-parallel-item:last-child::after {align-self: flex-start;width: 50%;}#sk-container-id-1 div.sk-parallel-item:only-child::after {width: 0;}#sk-container-id-1 div.sk-dashed-wrapped {border: 1px dashed gray;margin: 0 0.4em 0.5em 0.4em;box-sizing: border-box;padding-bottom: 0.4em;background-color: white;}#sk-container-id-1 div.sk-label label {font-family: monospace;font-weight: bold;display: inline-block;line-height: 1.2em;}#sk-container-id-1 div.sk-label-container {text-align: center;}#sk-container-id-1 div.sk-container {/* jupyter's `normalize.less` sets `[hidden] { display: none; }` but bootstrap.min.css set `[hidden] { display: none !important; }` so we also need the `!important` here to be able to override the default hidden behavior on the sphinx rendered scikit-learn.org. See: https://github.com/scikit-learn/scikit-learn/issues/21755 */display: inline-block !important;position: relative;}#sk-container-id-1 div.sk-text-repr-fallback {display: none;}</style><div id=\"sk-container-id-1\" class=\"sk-top-container\"><div class=\"sk-text-repr-fallback\"><pre>LGBMClassifier(lambda=0.1, learning_rate=0.03, max_depth=34, n_epochs=18,\n",
       "               num_leaves=34, objective=&#x27;rmse&#x27;, random_state=42)</pre><b>In a Jupyter environment, please rerun this cell to show the HTML representation or trust the notebook. <br />On GitHub, the HTML representation is unable to render, please try loading this page with nbviewer.org.</b></div><div class=\"sk-container\" hidden><div class=\"sk-item\"><div class=\"sk-estimator sk-toggleable\"><input class=\"sk-toggleable__control sk-hidden--visually\" id=\"sk-estimator-id-1\" type=\"checkbox\" checked><label for=\"sk-estimator-id-1\" class=\"sk-toggleable__label sk-toggleable__label-arrow\">LGBMClassifier</label><div class=\"sk-toggleable__content\"><pre>LGBMClassifier(lambda=0.1, learning_rate=0.03, max_depth=34, n_epochs=18,\n",
       "               num_leaves=34, objective=&#x27;rmse&#x27;, random_state=42)</pre></div></div></div></div></div>"
      ],
      "text/plain": [
       "LGBMClassifier(lambda=0.1, learning_rate=0.03, max_depth=34, n_epochs=18,\n",
       "               num_leaves=34, objective='rmse', random_state=42)"
      ]
     },
     "execution_count": 78,
     "metadata": {},
     "output_type": "execute_result"
    }
   ],
   "source": [
    "lgbm_cl = LGBMClassifier(**params ,random_state=42)\n",
    "lgbm_cl.fit(X_train.select_dtypes(exclude='object'), y_train)"
   ]
  },
  {
   "cell_type": "code",
   "execution_count": 79,
   "metadata": {},
   "outputs": [],
   "source": [
    "lgbm_pred_cl = lgbm_cl.predict(X_test.select_dtypes(exclude='object'))"
   ]
  },
  {
   "cell_type": "code",
   "execution_count": 80,
   "metadata": {},
   "outputs": [
    {
     "data": {
      "text/plain": [
       "8     56261\n",
       "10     2752\n",
       "9      1039\n",
       "2       463\n",
       "7       437\n",
       "4       284\n",
       "3        78\n",
       "1        45\n",
       "dtype: int64"
      ]
     },
     "execution_count": 80,
     "metadata": {},
     "output_type": "execute_result"
    }
   ],
   "source": [
    "pd.Series(lgbm_pred_cl).value_counts()"
   ]
  },
  {
   "cell_type": "code",
   "execution_count": 81,
   "metadata": {},
   "outputs": [
    {
     "data": {
      "text/plain": [
       "2.586211332472691"
      ]
     },
     "execution_count": 81,
     "metadata": {},
     "output_type": "execute_result"
    }
   ],
   "source": [
    "score['lgbm_cl'] = rmse(y_test,lgbm_pred_cl)\n",
    "score['lgbm_cl']"
   ]
  },
  {
   "cell_type": "code",
   "execution_count": 82,
   "metadata": {},
   "outputs": [],
   "source": [
    "pred['lgbm_cl'] = lgbm_pred_cl"
   ]
  },
  {
   "cell_type": "code",
   "execution_count": 83,
   "metadata": {},
   "outputs": [
    {
     "name": "stdout",
     "output_type": "stream",
     "text": [
      "RMSE of lgbm_classifier : 2.5862\n"
     ]
    }
   ],
   "source": [
    "rmse_v = score['lgbm_cl']\n",
    "print(f\"RMSE of lgbm_classifier : {round(rmse_v,4)}\")"
   ]
  },
  {
   "attachments": {},
   "cell_type": "markdown",
   "metadata": {},
   "source": [
    "### LGBM Regressor"
   ]
  },
  {
   "cell_type": "code",
   "execution_count": 84,
   "metadata": {},
   "outputs": [
    {
     "name": "stdout",
     "output_type": "stream",
     "text": [
      "[LightGBM] [Warning] Unknown parameter: n_epochs\n",
      "[LightGBM] [Warning] lambda_l2 is set with lambda=0.1, reg_lambda=0.0 will be ignored. Current value: lambda_l2=0.1\n"
     ]
    }
   ],
   "source": [
    "lgbm_r = LGBMRegressor(**params ,random_state=42)\n",
    "lgbm_r.fit(X_train.select_dtypes(exclude='object'), y_train)\n",
    "lgbm_pred_r = lgbm_r.predict(X_test.select_dtypes(exclude='object'))"
   ]
  },
  {
   "cell_type": "code",
   "execution_count": 85,
   "metadata": {},
   "outputs": [],
   "source": [
    "score['lgbm_r'] = rmse(y_test,lgbm_pred_r)"
   ]
  },
  {
   "cell_type": "code",
   "execution_count": 86,
   "metadata": {},
   "outputs": [],
   "source": [
    "pred['lgbm_r'] = lgbm_pred_r"
   ]
  },
  {
   "cell_type": "code",
   "execution_count": 87,
   "metadata": {},
   "outputs": [
    {
     "data": {
      "text/plain": [
       "<AxesSubplot: ylabel='Density'>"
      ]
     },
     "execution_count": 87,
     "metadata": {},
     "output_type": "execute_result"
    },
    {
     "data": {
      "image/png": "[encoded data removed]",
      "text/plain": [
       "<Figure size 640x480 with 1 Axes>"
      ]
     },
     "metadata": {},
     "output_type": "display_data"
    }
   ],
   "source": [
    "sns.distplot(pd.Series(lgbm_pred_r))"
   ]
  },
  {
   "cell_type": "code",
   "execution_count": 88,
   "metadata": {},
   "outputs": [
    {
     "data": {
      "text/plain": [
       "7    55455\n",
       "8     4358\n",
       "6      732\n",
       "5      389\n",
       "4      230\n",
       "9      195\n",
       "dtype: int64"
      ]
     },
     "execution_count": 88,
     "metadata": {},
     "output_type": "execute_result"
    }
   ],
   "source": [
    "pd.Series(lgbm_pred_r).map(round).value_counts()"
   ]
  },
  {
   "cell_type": "code",
   "execution_count": 89,
   "metadata": {},
   "outputs": [
    {
     "name": "stdout",
     "output_type": "stream",
     "text": [
      "RMSE of lgbm_Regressor : 2.3655\n"
     ]
    }
   ],
   "source": [
    "rmse_v = score['lgbm_r']\n",
    "print(f\"RMSE of lgbm_Regressor : {round(rmse_v,4)}\")"
   ]
  },
  {
   "attachments": {},
   "cell_type": "markdown",
   "metadata": {},
   "source": [
    "### Catboost"
   ]
  },
  {
   "cell_type": "code",
   "execution_count": 90,
   "metadata": {},
   "outputs": [],
   "source": [
    "params = {}\n",
    "params['iterations'] = 100\n",
    "params['learning_rate']=0.1\n",
    "params['depth']=8"
   ]
  },
  {
   "cell_type": "code",
   "execution_count": 91,
   "metadata": {},
   "outputs": [],
   "source": [
    "param['catboost'] = params"
   ]
  },
  {
   "cell_type": "code",
   "execution_count": 92,
   "metadata": {},
   "outputs": [
    {
     "name": "stdout",
     "output_type": "stream",
     "text": [
      "0:\tlearn: 2.2560332\ttotal: 289ms\tremaining: 28.7s\n",
      "1:\tlearn: 2.2188480\ttotal: 454ms\tremaining: 22.3s\n",
      "2:\tlearn: 2.1900016\ttotal: 607ms\tremaining: 19.6s\n",
      "3:\tlearn: 2.1669524\ttotal: 766ms\tremaining: 18.4s\n",
      "4:\tlearn: 2.1478455\ttotal: 966ms\tremaining: 18.3s\n",
      "5:\tlearn: 2.1321268\ttotal: 1.13s\tremaining: 17.7s\n",
      "6:\tlearn: 2.1188289\ttotal: 1.29s\tremaining: 17.1s\n",
      "7:\tlearn: 2.1074847\ttotal: 1.46s\tremaining: 16.8s\n",
      "8:\tlearn: 2.0990061\ttotal: 1.64s\tremaining: 16.6s\n",
      "9:\tlearn: 2.0896168\ttotal: 1.79s\tremaining: 16.1s\n",
      "10:\tlearn: 2.0824848\ttotal: 1.95s\tremaining: 15.8s\n",
      "11:\tlearn: 2.0764300\ttotal: 2.13s\tremaining: 15.6s\n",
      "12:\tlearn: 2.0722995\ttotal: 2.27s\tremaining: 15.2s\n",
      "13:\tlearn: 2.0687110\ttotal: 2.4s\tremaining: 14.7s\n",
      "14:\tlearn: 2.0645701\ttotal: 2.51s\tremaining: 14.2s\n",
      "15:\tlearn: 2.0611052\ttotal: 2.63s\tremaining: 13.8s\n",
      "16:\tlearn: 2.0589962\ttotal: 2.73s\tremaining: 13.3s\n",
      "17:\tlearn: 2.0563385\ttotal: 2.84s\tremaining: 12.9s\n",
      "18:\tlearn: 2.0540074\ttotal: 2.95s\tremaining: 12.6s\n",
      "19:\tlearn: 2.0523455\ttotal: 3.06s\tremaining: 12.2s\n",
      "20:\tlearn: 2.0510310\ttotal: 3.17s\tremaining: 11.9s\n",
      "21:\tlearn: 2.0492167\ttotal: 3.28s\tremaining: 11.6s\n",
      "22:\tlearn: 2.0480781\ttotal: 3.38s\tremaining: 11.3s\n",
      "23:\tlearn: 2.0471123\ttotal: 3.49s\tremaining: 11.1s\n",
      "24:\tlearn: 2.0461770\ttotal: 3.6s\tremaining: 10.8s\n",
      "25:\tlearn: 2.0454357\ttotal: 3.71s\tremaining: 10.6s\n",
      "26:\tlearn: 2.0443128\ttotal: 3.82s\tremaining: 10.3s\n",
      "27:\tlearn: 2.0433792\ttotal: 3.92s\tremaining: 10.1s\n",
      "28:\tlearn: 2.0428232\ttotal: 4.03s\tremaining: 9.87s\n",
      "29:\tlearn: 2.0423795\ttotal: 4.14s\tremaining: 9.66s\n",
      "30:\tlearn: 2.0408468\ttotal: 4.25s\tremaining: 9.46s\n",
      "31:\tlearn: 2.0392778\ttotal: 4.36s\tremaining: 9.26s\n",
      "32:\tlearn: 2.0384966\ttotal: 4.46s\tremaining: 9.06s\n",
      "33:\tlearn: 2.0380153\ttotal: 4.59s\tremaining: 8.9s\n",
      "34:\tlearn: 2.0369024\ttotal: 4.71s\tremaining: 8.74s\n",
      "35:\tlearn: 2.0363675\ttotal: 4.83s\tremaining: 8.59s\n",
      "36:\tlearn: 2.0355840\ttotal: 4.95s\tremaining: 8.43s\n",
      "37:\tlearn: 2.0352722\ttotal: 5.08s\tremaining: 8.29s\n",
      "38:\tlearn: 2.0343573\ttotal: 5.25s\tremaining: 8.2s\n",
      "39:\tlearn: 2.0332500\ttotal: 5.37s\tremaining: 8.05s\n",
      "40:\tlearn: 2.0327914\ttotal: 5.52s\tremaining: 7.95s\n",
      "41:\tlearn: 2.0321651\ttotal: 5.68s\tremaining: 7.85s\n",
      "42:\tlearn: 2.0312814\ttotal: 5.82s\tremaining: 7.72s\n",
      "43:\tlearn: 2.0309331\ttotal: 5.93s\tremaining: 7.54s\n",
      "44:\tlearn: 2.0300817\ttotal: 6.04s\tremaining: 7.38s\n",
      "45:\tlearn: 2.0296429\ttotal: 6.14s\tremaining: 7.21s\n",
      "46:\tlearn: 2.0293276\ttotal: 6.26s\tremaining: 7.05s\n",
      "47:\tlearn: 2.0289623\ttotal: 6.37s\tremaining: 6.89s\n",
      "48:\tlearn: 2.0283957\ttotal: 6.47s\tremaining: 6.74s\n",
      "49:\tlearn: 2.0281130\ttotal: 6.58s\tremaining: 6.58s\n",
      "50:\tlearn: 2.0276488\ttotal: 6.69s\tremaining: 6.43s\n",
      "51:\tlearn: 2.0270266\ttotal: 6.81s\tremaining: 6.28s\n",
      "52:\tlearn: 2.0268040\ttotal: 6.92s\tremaining: 6.13s\n",
      "53:\tlearn: 2.0265301\ttotal: 7.03s\tremaining: 5.98s\n",
      "54:\tlearn: 2.0260247\ttotal: 7.13s\tremaining: 5.84s\n",
      "55:\tlearn: 2.0256810\ttotal: 7.24s\tremaining: 5.69s\n",
      "56:\tlearn: 2.0249739\ttotal: 7.36s\tremaining: 5.55s\n",
      "57:\tlearn: 2.0244443\ttotal: 7.46s\tremaining: 5.41s\n",
      "58:\tlearn: 2.0240489\ttotal: 7.59s\tremaining: 5.28s\n",
      "59:\tlearn: 2.0236552\ttotal: 7.72s\tremaining: 5.14s\n",
      "60:\tlearn: 2.0233051\ttotal: 7.83s\tremaining: 5.01s\n",
      "61:\tlearn: 2.0229133\ttotal: 7.96s\tremaining: 4.88s\n",
      "62:\tlearn: 2.0227150\ttotal: 8.08s\tremaining: 4.75s\n",
      "63:\tlearn: 2.0223840\ttotal: 8.21s\tremaining: 4.62s\n",
      "64:\tlearn: 2.0220156\ttotal: 8.33s\tremaining: 4.49s\n",
      "65:\tlearn: 2.0218886\ttotal: 8.46s\tremaining: 4.36s\n",
      "66:\tlearn: 2.0216253\ttotal: 8.59s\tremaining: 4.23s\n",
      "67:\tlearn: 2.0213431\ttotal: 8.7s\tremaining: 4.09s\n",
      "68:\tlearn: 2.0210292\ttotal: 8.81s\tremaining: 3.96s\n",
      "69:\tlearn: 2.0206565\ttotal: 8.92s\tremaining: 3.82s\n",
      "70:\tlearn: 2.0202771\ttotal: 9.04s\tremaining: 3.69s\n",
      "71:\tlearn: 2.0200119\ttotal: 9.14s\tremaining: 3.56s\n",
      "72:\tlearn: 2.0196008\ttotal: 9.25s\tremaining: 3.42s\n",
      "73:\tlearn: 2.0192174\ttotal: 9.36s\tremaining: 3.29s\n",
      "74:\tlearn: 2.0190009\ttotal: 9.47s\tremaining: 3.16s\n",
      "75:\tlearn: 2.0187120\ttotal: 9.58s\tremaining: 3.02s\n",
      "76:\tlearn: 2.0183296\ttotal: 9.69s\tremaining: 2.89s\n",
      "77:\tlearn: 2.0179150\ttotal: 9.8s\tremaining: 2.76s\n",
      "78:\tlearn: 2.0174771\ttotal: 9.9s\tremaining: 2.63s\n",
      "79:\tlearn: 2.0170719\ttotal: 10s\tremaining: 2.5s\n",
      "80:\tlearn: 2.0168464\ttotal: 10.1s\tremaining: 2.38s\n",
      "81:\tlearn: 2.0166110\ttotal: 10.2s\tremaining: 2.25s\n",
      "82:\tlearn: 2.0161417\ttotal: 10.3s\tremaining: 2.12s\n",
      "83:\tlearn: 2.0157750\ttotal: 10.4s\tremaining: 1.99s\n",
      "84:\tlearn: 2.0151889\ttotal: 10.6s\tremaining: 1.86s\n",
      "85:\tlearn: 2.0149517\ttotal: 10.7s\tremaining: 1.74s\n",
      "86:\tlearn: 2.0146619\ttotal: 10.9s\tremaining: 1.62s\n",
      "87:\tlearn: 2.0142465\ttotal: 11s\tremaining: 1.5s\n",
      "88:\tlearn: 2.0141275\ttotal: 11.2s\tremaining: 1.38s\n",
      "89:\tlearn: 2.0139747\ttotal: 11.3s\tremaining: 1.26s\n",
      "90:\tlearn: 2.0137405\ttotal: 11.5s\tremaining: 1.14s\n",
      "91:\tlearn: 2.0133445\ttotal: 11.6s\tremaining: 1.01s\n",
      "92:\tlearn: 2.0130908\ttotal: 11.7s\tremaining: 884ms\n",
      "93:\tlearn: 2.0125222\ttotal: 11.9s\tremaining: 759ms\n",
      "94:\tlearn: 2.0120755\ttotal: 12s\tremaining: 634ms\n",
      "95:\tlearn: 2.0118140\ttotal: 12.2s\tremaining: 508ms\n",
      "96:\tlearn: 2.0116056\ttotal: 12.3s\tremaining: 381ms\n",
      "97:\tlearn: 2.0112960\ttotal: 12.4s\tremaining: 254ms\n",
      "98:\tlearn: 2.0109786\ttotal: 12.5s\tremaining: 127ms\n",
      "99:\tlearn: 2.0106991\ttotal: 12.6s\tremaining: 0us\n"
     ]
    }
   ],
   "source": [
    "catboost_cl = CatBoostClassifier(**params, verbose=True, random_state=42)\n",
    "catboost_cl.fit(X_train.select_dtypes(exclude='object'), y_train, early_stopping_rounds=100)\n",
    "catboost_pred_cl = catboost_cl.predict(X_test.select_dtypes(exclude='object'))"
   ]
  },
  {
   "cell_type": "code",
   "execution_count": 94,
   "metadata": {},
   "outputs": [],
   "source": [
    "score['catboost_cl'] = rmse(y_test,catboost_pred_cl.squeeze(1))"
   ]
  },
  {
   "cell_type": "code",
   "execution_count": 95,
   "metadata": {},
   "outputs": [],
   "source": [
    "pred['catboost_cl'] = catboost_pred_cl.squeeze(1)"
   ]
  },
  {
   "cell_type": "code",
   "execution_count": 96,
   "metadata": {},
   "outputs": [
    {
     "name": "stdout",
     "output_type": "stream",
     "text": [
      "RMSE of Catboost Classifier : 2.6095\n"
     ]
    }
   ],
   "source": [
    "rmse_v = score['catboost_cl']\n",
    "print(f\"RMSE of Catboost Classifier : {round(rmse_v,4)}\")"
   ]
  },
  {
   "attachments": {},
   "cell_type": "markdown",
   "metadata": {},
   "source": [
    "### Catboost Regressor"
   ]
  },
  {
   "cell_type": "code",
   "execution_count": 97,
   "metadata": {},
   "outputs": [
    {
     "name": "stdout",
     "output_type": "stream",
     "text": [
      "0:\tlearn: 2.4272136\ttotal: 13.7ms\tremaining: 1.36s\n",
      "1:\tlearn: 2.4231070\ttotal: 25.3ms\tremaining: 1.24s\n",
      "2:\tlearn: 2.4186433\ttotal: 36.5ms\tremaining: 1.18s\n",
      "3:\tlearn: 2.4151338\ttotal: 48ms\tremaining: 1.15s\n",
      "4:\tlearn: 2.4118752\ttotal: 59.2ms\tremaining: 1.12s\n",
      "5:\tlearn: 2.4095519\ttotal: 70ms\tremaining: 1.1s\n",
      "6:\tlearn: 2.4074097\ttotal: 81.4ms\tremaining: 1.08s\n",
      "7:\tlearn: 2.4055620\ttotal: 91.9ms\tremaining: 1.06s\n",
      "8:\tlearn: 2.4030234\ttotal: 103ms\tremaining: 1.04s\n",
      "9:\tlearn: 2.4011160\ttotal: 114ms\tremaining: 1.02s\n",
      "10:\tlearn: 2.3993301\ttotal: 124ms\tremaining: 1.01s\n",
      "11:\tlearn: 2.3978596\ttotal: 135ms\tremaining: 987ms\n",
      "12:\tlearn: 2.3971397\ttotal: 145ms\tremaining: 972ms\n",
      "13:\tlearn: 2.3957467\ttotal: 156ms\tremaining: 960ms\n",
      "14:\tlearn: 2.3950187\ttotal: 166ms\tremaining: 943ms\n",
      "15:\tlearn: 2.3935887\ttotal: 177ms\tremaining: 931ms\n",
      "16:\tlearn: 2.3925755\ttotal: 188ms\tremaining: 920ms\n",
      "17:\tlearn: 2.3915903\ttotal: 199ms\tremaining: 906ms\n",
      "18:\tlearn: 2.3898853\ttotal: 210ms\tremaining: 894ms\n",
      "19:\tlearn: 2.3888299\ttotal: 221ms\tremaining: 883ms\n",
      "20:\tlearn: 2.3882547\ttotal: 232ms\tremaining: 871ms\n",
      "21:\tlearn: 2.3873934\ttotal: 243ms\tremaining: 861ms\n",
      "22:\tlearn: 2.3868242\ttotal: 255ms\tremaining: 854ms\n",
      "23:\tlearn: 2.3863538\ttotal: 266ms\tremaining: 841ms\n",
      "24:\tlearn: 2.3854014\ttotal: 276ms\tremaining: 828ms\n",
      "25:\tlearn: 2.3841689\ttotal: 287ms\tremaining: 817ms\n",
      "26:\tlearn: 2.3836842\ttotal: 298ms\tremaining: 806ms\n",
      "27:\tlearn: 2.3827913\ttotal: 309ms\tremaining: 794ms\n",
      "28:\tlearn: 2.3822259\ttotal: 319ms\tremaining: 781ms\n",
      "29:\tlearn: 2.3815362\ttotal: 330ms\tremaining: 770ms\n",
      "30:\tlearn: 2.3806974\ttotal: 340ms\tremaining: 758ms\n",
      "31:\tlearn: 2.3801769\ttotal: 350ms\tremaining: 745ms\n",
      "32:\tlearn: 2.3798933\ttotal: 361ms\tremaining: 732ms\n",
      "33:\tlearn: 2.3791101\ttotal: 371ms\tremaining: 720ms\n",
      "34:\tlearn: 2.3785866\ttotal: 381ms\tremaining: 708ms\n",
      "35:\tlearn: 2.3780521\ttotal: 392ms\tremaining: 697ms\n",
      "36:\tlearn: 2.3773397\ttotal: 403ms\tremaining: 686ms\n",
      "37:\tlearn: 2.3769424\ttotal: 414ms\tremaining: 675ms\n",
      "38:\tlearn: 2.3763440\ttotal: 424ms\tremaining: 663ms\n",
      "39:\tlearn: 2.3760885\ttotal: 435ms\tremaining: 653ms\n",
      "40:\tlearn: 2.3755567\ttotal: 445ms\tremaining: 641ms\n",
      "41:\tlearn: 2.3752200\ttotal: 455ms\tremaining: 629ms\n",
      "42:\tlearn: 2.3748609\ttotal: 465ms\tremaining: 617ms\n",
      "43:\tlearn: 2.3738426\ttotal: 476ms\tremaining: 606ms\n",
      "44:\tlearn: 2.3734722\ttotal: 487ms\tremaining: 595ms\n",
      "45:\tlearn: 2.3728275\ttotal: 497ms\tremaining: 584ms\n",
      "46:\tlearn: 2.3722530\ttotal: 508ms\tremaining: 573ms\n",
      "47:\tlearn: 2.3716348\ttotal: 521ms\tremaining: 564ms\n",
      "48:\tlearn: 2.3712442\ttotal: 538ms\tremaining: 560ms\n",
      "49:\tlearn: 2.3704716\ttotal: 550ms\tremaining: 550ms\n",
      "50:\tlearn: 2.3700292\ttotal: 561ms\tremaining: 539ms\n",
      "51:\tlearn: 2.3697321\ttotal: 572ms\tremaining: 528ms\n",
      "52:\tlearn: 2.3695627\ttotal: 585ms\tremaining: 518ms\n",
      "53:\tlearn: 2.3690039\ttotal: 596ms\tremaining: 508ms\n",
      "54:\tlearn: 2.3685920\ttotal: 608ms\tremaining: 497ms\n",
      "55:\tlearn: 2.3679229\ttotal: 619ms\tremaining: 487ms\n",
      "56:\tlearn: 2.3673248\ttotal: 631ms\tremaining: 476ms\n",
      "57:\tlearn: 2.3670951\ttotal: 642ms\tremaining: 465ms\n",
      "58:\tlearn: 2.3669283\ttotal: 656ms\tremaining: 456ms\n",
      "59:\tlearn: 2.3664986\ttotal: 667ms\tremaining: 445ms\n",
      "60:\tlearn: 2.3662199\ttotal: 680ms\tremaining: 435ms\n",
      "61:\tlearn: 2.3659250\ttotal: 691ms\tremaining: 423ms\n",
      "62:\tlearn: 2.3658054\ttotal: 701ms\tremaining: 412ms\n",
      "63:\tlearn: 2.3654478\ttotal: 712ms\tremaining: 401ms\n",
      "64:\tlearn: 2.3652665\ttotal: 724ms\tremaining: 390ms\n",
      "65:\tlearn: 2.3647829\ttotal: 737ms\tremaining: 380ms\n",
      "66:\tlearn: 2.3642771\ttotal: 751ms\tremaining: 370ms\n",
      "67:\tlearn: 2.3637524\ttotal: 764ms\tremaining: 359ms\n",
      "68:\tlearn: 2.3634593\ttotal: 777ms\tremaining: 349ms\n",
      "69:\tlearn: 2.3632978\ttotal: 787ms\tremaining: 337ms\n",
      "70:\tlearn: 2.3628803\ttotal: 801ms\tremaining: 327ms\n",
      "71:\tlearn: 2.3627279\ttotal: 830ms\tremaining: 323ms\n",
      "72:\tlearn: 2.3625575\ttotal: 841ms\tremaining: 311ms\n",
      "73:\tlearn: 2.3621105\ttotal: 852ms\tremaining: 300ms\n",
      "74:\tlearn: 2.3617791\ttotal: 864ms\tremaining: 288ms\n",
      "75:\tlearn: 2.3615475\ttotal: 875ms\tremaining: 276ms\n",
      "76:\tlearn: 2.3613243\ttotal: 887ms\tremaining: 265ms\n",
      "77:\tlearn: 2.3612088\ttotal: 898ms\tremaining: 253ms\n",
      "78:\tlearn: 2.3607888\ttotal: 909ms\tremaining: 242ms\n",
      "79:\tlearn: 2.3600442\ttotal: 921ms\tremaining: 230ms\n",
      "80:\tlearn: 2.3595716\ttotal: 932ms\tremaining: 219ms\n",
      "81:\tlearn: 2.3588773\ttotal: 944ms\tremaining: 207ms\n",
      "82:\tlearn: 2.3587048\ttotal: 955ms\tremaining: 196ms\n",
      "83:\tlearn: 2.3584417\ttotal: 966ms\tremaining: 184ms\n",
      "84:\tlearn: 2.3582539\ttotal: 977ms\tremaining: 172ms\n",
      "85:\tlearn: 2.3579668\ttotal: 988ms\tremaining: 161ms\n",
      "86:\tlearn: 2.3576647\ttotal: 1s\tremaining: 150ms\n",
      "87:\tlearn: 2.3573503\ttotal: 1.01s\tremaining: 138ms\n",
      "88:\tlearn: 2.3571871\ttotal: 1.02s\tremaining: 127ms\n",
      "89:\tlearn: 2.3569940\ttotal: 1.03s\tremaining: 115ms\n",
      "90:\tlearn: 2.3567995\ttotal: 1.05s\tremaining: 103ms\n",
      "91:\tlearn: 2.3563829\ttotal: 1.06s\tremaining: 92ms\n",
      "92:\tlearn: 2.3559827\ttotal: 1.07s\tremaining: 80.5ms\n",
      "93:\tlearn: 2.3556308\ttotal: 1.08s\tremaining: 68.9ms\n",
      "94:\tlearn: 2.3555228\ttotal: 1.09s\tremaining: 57.4ms\n",
      "95:\tlearn: 2.3552389\ttotal: 1.1s\tremaining: 45.9ms\n",
      "96:\tlearn: 2.3551486\ttotal: 1.11s\tremaining: 34.4ms\n",
      "97:\tlearn: 2.3548011\ttotal: 1.12s\tremaining: 22.9ms\n",
      "98:\tlearn: 2.3542928\ttotal: 1.14s\tremaining: 11.5ms\n",
      "99:\tlearn: 2.3540108\ttotal: 1.15s\tremaining: 0us\n"
     ]
    }
   ],
   "source": [
    "catboost_r = CatBoostRegressor(**params, verbose=True, random_state=42)\n",
    "catboost_r.fit(X_train.select_dtypes(exclude='object'), y_train, early_stopping_rounds=100)\n",
    "catboost_pred_r = catboost_r.predict(X_test.select_dtypes(exclude='object'))"
   ]
  },
  {
   "cell_type": "code",
   "execution_count": 98,
   "metadata": {},
   "outputs": [],
   "source": [
    "score['catboost_r'] = rmse(y_test,catboost_pred_r)"
   ]
  },
  {
   "cell_type": "code",
   "execution_count": 99,
   "metadata": {},
   "outputs": [],
   "source": [
    "pred['catboost_r'] = catboost_pred_r"
   ]
  },
  {
   "cell_type": "code",
   "execution_count": 100,
   "metadata": {},
   "outputs": [
    {
     "name": "stdout",
     "output_type": "stream",
     "text": [
      "RMSE of Catboost Regressor : 2.362\n"
     ]
    }
   ],
   "source": [
    "rmse_v = score['catboost_r']\n",
    "print(f\"RMSE of Catboost Regressor : {round(rmse_v,4)}\")"
   ]
  },
  {
   "attachments": {},
   "cell_type": "markdown",
   "metadata": {},
   "source": [
    "## 하이브리드 접근법을 이용한 성능 개선"
   ]
  },
  {
   "cell_type": "code",
   "execution_count": 101,
   "metadata": {},
   "outputs": [
    {
     "data": {
      "text/plain": [
       "{'svd': 2.2151653244307097,\n",
       " 'coclu': 2.5070737129167298,\n",
       " 'lgbm_cl': 2.586211332472691,\n",
       " 'lgbm_r': 2.3655060685545086,\n",
       " 'catboost_cl': 2.609467172876271,\n",
       " 'catboost_r': 2.3619752329052064}"
      ]
     },
     "execution_count": 101,
     "metadata": {},
     "output_type": "execute_result"
    }
   ],
   "source": [
    "score"
   ]
  },
  {
   "attachments": {},
   "cell_type": "markdown",
   "metadata": {},
   "source": [
    "### Simple Weight : 직접 지정\n",
    "\n",
    "먼저, 직접 지정하는 방법입니다."
   ]
  },
  {
   "cell_type": "code",
   "execution_count": 102,
   "metadata": {},
   "outputs": [],
   "source": [
    "# 기본 Weight\n",
    "def simple_weighted(output_list: list, weight: list):\n",
    "    pred = []\n",
    "    for arr in output_list:\n",
    "        pred.append(arr)\n",
    "\n",
    "    pred_arr = np.append([pred[0]], [pred[1]], axis=0)\n",
    "    for i in range(2, len(pred)):\n",
    "        pred_arr = np.append(pred_arr, [pred[i]], axis=0)\n",
    "    \n",
    "    result = np.dot(pred_arr.T, np.array(weight))\n",
    "    return result"
   ]
  },
  {
   "cell_type": "code",
   "execution_count": 103,
   "metadata": {},
   "outputs": [],
   "source": [
    "weighted_pred = simple_weighted([svd_pred,lgbm_pred_r,catboost_pred_r], weight=[0.5, 0.2, 0.3])"
   ]
  },
  {
   "cell_type": "code",
   "execution_count": 104,
   "metadata": {},
   "outputs": [
    {
     "name": "stdout",
     "output_type": "stream",
     "text": [
      "RMSE of Simple Weighted : 2.2427\n"
     ]
    }
   ],
   "source": [
    "rmse_v = rmse(y_test, weighted_pred)\n",
    "print(f\"RMSE of Simple Weighted : {round(rmse_v,4)}\")"
   ]
  },
  {
   "attachments": {},
   "cell_type": "markdown",
   "metadata": {},
   "source": [
    "### Optimal Weight : 가중치 탐색\n",
    "\n",
    "아래 코드를 통해 최적의 weight를 찾을 수도 있습니다.\n",
    "\n",
    "먼저 Weight를 줄 모델을 선정하여 봅니다."
   ]
  },
  {
   "cell_type": "code",
   "execution_count": 105,
   "metadata": {},
   "outputs": [],
   "source": [
    "def find_suitable_model(score:dict,threshold:float)->list:\n",
    "    suitable_models = [k for k,v in score.items() if v<threshold]\n",
    "    return suitable_models"
   ]
  },
  {
   "cell_type": "code",
   "execution_count": 106,
   "metadata": {},
   "outputs": [
    {
     "name": "stdout",
     "output_type": "stream",
     "text": [
      "RMSE 3.4 이하 모델 활용 : ['svd', 'coclu', 'lgbm_cl', 'lgbm_r', 'catboost_cl', 'catboost_r']\n"
     ]
    }
   ],
   "source": [
    "threshold = 3.4\n",
    "suitable_models = find_suitable_model(score,threshold)\n",
    "print(f\"RMSE {threshold} 이하 모델 활용 : {suitable_models}\")"
   ]
  },
  {
   "cell_type": "code",
   "execution_count": 107,
   "metadata": {},
   "outputs": [],
   "source": [
    "output_list = [pred[m] for m in suitable_models]"
   ]
  },
  {
   "attachments": {},
   "cell_type": "markdown",
   "metadata": {},
   "source": [
    "이를 random_weight 를 통해 optimal_weighted를 찾아보겠습니다."
   ]
  },
  {
   "cell_type": "code",
   "execution_count": 108,
   "metadata": {},
   "outputs": [],
   "source": [
    "def optimal_weighted(output_list: list, n:int)->dict:\n",
    "    record = {'rmse':10,'weight':[]}\n",
    "    \n",
    "    for _ in range(n):\n",
    "        random_weight = np.random.dirichlet(np.ones(len(output_list)),size=1).squeeze()\n",
    "        pred_weight_zip = zip(output_list,random_weight)\n",
    "        pred_weight_list = [pred*np.array(weight) for pred, weight in pred_weight_zip]\n",
    "        pred_result = np.sum(pred_weight_list, axis=0)\n",
    "        rmse_v = rmse(y_test,pred_result)\n",
    "        if rmse_v < record['rmse']:\n",
    "            record['rmse'] = rmse_v\n",
    "            record['weight'] = random_weight\n",
    "    return record"
   ]
  },
  {
   "cell_type": "code",
   "execution_count": 109,
   "metadata": {},
   "outputs": [
    {
     "data": {
      "text/plain": [
       "{'rmse': 2.2106677121571767,\n",
       " 'weight': array([0.71697096, 0.0820996 , 0.01120183, 0.06596056, 0.00945603,\n",
       "        0.11431102])}"
      ]
     },
     "execution_count": 109,
     "metadata": {},
     "output_type": "execute_result"
    }
   ],
   "source": [
    "opt_w = optimal_weighted(output_list=output_list,n=100)\n",
    "opt_w"
   ]
  },
  {
   "cell_type": "code",
   "execution_count": 110,
   "metadata": {},
   "outputs": [],
   "source": [
    "opt_weighted_pred = simple_weighted(output_list,\n",
    "                                    weight=opt_w['weight'])"
   ]
  },
  {
   "cell_type": "code",
   "execution_count": 111,
   "metadata": {},
   "outputs": [],
   "source": [
    "pred['opt_weight'] = opt_weighted_pred"
   ]
  },
  {
   "cell_type": "code",
   "execution_count": 112,
   "metadata": {},
   "outputs": [
    {
     "name": "stdout",
     "output_type": "stream",
     "text": [
      "RMSE of Optimal Weighted : 2.2107\n"
     ]
    }
   ],
   "source": [
    "rmse_v = rmse(y_test, opt_weighted_pred)\n",
    "score['opt_weight'] = rmse_v\n",
    "print(f\"RMSE of Optimal Weighted : {round(rmse_v,4)}\")"
   ]
  },
  {
   "attachments": {},
   "cell_type": "markdown",
   "metadata": {},
   "source": [
    "### Feature Combine\n",
    "\n",
    "Feature Combine 방법을 이용하여, 타 모델에서 생성된 pred 값을 Input으로 사용합니다.\n",
    "\n",
    "item과 user의 feature를 사용하는 LGBM, Catboost에 추가하여 넘겨주도록 하겠습니다."
   ]
  },
  {
   "cell_type": "code",
   "execution_count": 113,
   "metadata": {},
   "outputs": [
    {
     "data": {
      "text/plain": [
       "{'svd': 2.2151653244307097,\n",
       " 'coclu': 2.5070737129167298,\n",
       " 'lgbm_cl': 2.586211332472691,\n",
       " 'lgbm_r': 2.3655060685545086,\n",
       " 'catboost_cl': 2.609467172876271,\n",
       " 'catboost_r': 2.3619752329052064,\n",
       " 'opt_weight': 2.2106677121571767}"
      ]
     },
     "execution_count": 113,
     "metadata": {},
     "output_type": "execute_result"
    }
   ],
   "source": [
    "score"
   ]
  },
  {
   "cell_type": "code",
   "execution_count": 114,
   "metadata": {},
   "outputs": [],
   "source": [
    "train_uir_tuple = list(zip(train_df['uid'], train_df['iid'], train_df['ratings']))"
   ]
  },
  {
   "cell_type": "code",
   "execution_count": 115,
   "metadata": {},
   "outputs": [],
   "source": [
    "X_train_combine = X_train.copy()\n",
    "X_test_combine = X_test.copy()"
   ]
  },
  {
   "attachments": {},
   "cell_type": "markdown",
   "metadata": {},
   "source": [
    "#### Rating Feature 추가\n",
    "\n",
    "여기서는 user-item 사이 interaction 데이터를 이용한 SVD, Co-clustering 알고리즘에서 예측한 pred_rating 에 대한 정보를 넘겨주도록 하겠습니다."
   ]
  },
  {
   "cell_type": "code",
   "execution_count": 116,
   "metadata": {},
   "outputs": [],
   "source": [
    "X_train_combine['svd_rating'] = list(map(lambda x:round(x.est), svd.test(train_uir_tuple)))\n",
    "X_test_combine['svd_rating'] = svd_pred"
   ]
  },
  {
   "cell_type": "code",
   "execution_count": 117,
   "metadata": {},
   "outputs": [],
   "source": [
    "X_train_combine['coclu_rating'] = list(map(lambda x:round(x.est), coclu.test(train_uir_tuple)))\n",
    "X_test_combine['coclu_rating'] = coclu_pred"
   ]
  },
  {
   "cell_type": "code",
   "execution_count": 118,
   "metadata": {},
   "outputs": [
    {
     "name": "stdout",
     "output_type": "stream",
     "text": [
      "[LightGBM] [Warning] Unknown parameter: n_epochs\n",
      "[LightGBM] [Warning] lambda_l2 is set with lambda=0.1, reg_lambda=0.0 will be ignored. Current value: lambda_l2=0.1\n"
     ]
    }
   ],
   "source": [
    "combined_lgbm_cl = LGBMClassifier(**param['lgbm'] , random_state=42)\n",
    "combined_lgbm_cl.fit(X_train_combine.select_dtypes(exclude='object'), y_train)\n",
    "com_lgbm_pred = combined_lgbm_cl.predict(X_test_combine.select_dtypes(exclude='object'))"
   ]
  },
  {
   "attachments": {},
   "cell_type": "markdown",
   "metadata": {},
   "source": [
    "#### 성능 향상"
   ]
  },
  {
   "attachments": {},
   "cell_type": "markdown",
   "metadata": {},
   "source": [
    "svd 모델에서 파생된 rating pred를 추가한 경우, 같은 파라미터를 사용한 기존 모델보다 성능을 훨씬 향상됨을 확인할 수 있습니다.\n",
    "\n",
    "<!-- only SVD: 3.416 -->"
   ]
  },
  {
   "cell_type": "code",
   "execution_count": 120,
   "metadata": {},
   "outputs": [],
   "source": [
    "pred['combined_lgbm_cl'] = com_lgbm_pred"
   ]
  },
  {
   "cell_type": "code",
   "execution_count": 121,
   "metadata": {},
   "outputs": [
    {
     "name": "stdout",
     "output_type": "stream",
     "text": [
      "RMSE of Combined LGBM Classifier : 2.3183\n"
     ]
    }
   ],
   "source": [
    "rmse_v = rmse(y_test, com_lgbm_pred)\n",
    "score['combined_lgbm_cl'] = rmse_v\n",
    "print(f\"RMSE of Combined LGBM Classifier : {round(rmse_v,4)}\")"
   ]
  },
  {
   "cell_type": "code",
   "execution_count": 122,
   "metadata": {},
   "outputs": [
    {
     "name": "stdout",
     "output_type": "stream",
     "text": [
      "feature combine improved RMSE -0.2679\n"
     ]
    }
   ],
   "source": [
    "improved = rmse_v - score['lgbm_cl']\n",
    "print(f'feature combine improved RMSE {round(improved,4)}')"
   ]
  },
  {
   "attachments": {},
   "cell_type": "markdown",
   "metadata": {},
   "source": [
    "catboost의 case도 확인해 봅시다."
   ]
  },
  {
   "cell_type": "code",
   "execution_count": 123,
   "metadata": {},
   "outputs": [
    {
     "name": "stdout",
     "output_type": "stream",
     "text": [
      "0:\tlearn: 2.0581268\ttotal: 156ms\tremaining: 15.4s\n",
      "1:\tlearn: 1.9059725\ttotal: 301ms\tremaining: 14.8s\n",
      "2:\tlearn: 1.7932623\ttotal: 447ms\tremaining: 14.4s\n",
      "3:\tlearn: 1.7079473\ttotal: 591ms\tremaining: 14.2s\n",
      "4:\tlearn: 1.6389242\ttotal: 728ms\tremaining: 13.8s\n",
      "5:\tlearn: 1.5804348\ttotal: 860ms\tremaining: 13.5s\n",
      "6:\tlearn: 1.5317402\ttotal: 993ms\tremaining: 13.2s\n",
      "7:\tlearn: 1.4908307\ttotal: 1.12s\tremaining: 12.9s\n",
      "8:\tlearn: 1.4559544\ttotal: 1.25s\tremaining: 12.6s\n",
      "9:\tlearn: 1.4259334\ttotal: 1.38s\tremaining: 12.4s\n",
      "10:\tlearn: 1.3997811\ttotal: 1.52s\tremaining: 12.3s\n",
      "11:\tlearn: 1.3775113\ttotal: 1.66s\tremaining: 12.2s\n",
      "12:\tlearn: 1.3572771\ttotal: 1.79s\tremaining: 12s\n",
      "13:\tlearn: 1.3397092\ttotal: 1.94s\tremaining: 11.9s\n",
      "14:\tlearn: 1.3238830\ttotal: 2.09s\tremaining: 11.8s\n",
      "15:\tlearn: 1.3091488\ttotal: 2.23s\tremaining: 11.7s\n",
      "16:\tlearn: 1.2960525\ttotal: 2.38s\tremaining: 11.6s\n",
      "17:\tlearn: 1.2844471\ttotal: 2.53s\tremaining: 11.5s\n",
      "18:\tlearn: 1.2751351\ttotal: 2.68s\tremaining: 11.4s\n",
      "19:\tlearn: 1.2655476\ttotal: 2.82s\tremaining: 11.3s\n",
      "20:\tlearn: 1.2574269\ttotal: 2.98s\tremaining: 11.2s\n",
      "21:\tlearn: 1.2496500\ttotal: 3.12s\tremaining: 11.1s\n",
      "22:\tlearn: 1.2429013\ttotal: 3.26s\tremaining: 10.9s\n",
      "23:\tlearn: 1.2371470\ttotal: 3.4s\tremaining: 10.8s\n",
      "24:\tlearn: 1.2325291\ttotal: 3.53s\tremaining: 10.6s\n",
      "25:\tlearn: 1.2283133\ttotal: 3.69s\tremaining: 10.5s\n",
      "26:\tlearn: 1.2235015\ttotal: 3.83s\tremaining: 10.4s\n",
      "27:\tlearn: 1.2192383\ttotal: 3.97s\tremaining: 10.2s\n",
      "28:\tlearn: 1.2151058\ttotal: 4.11s\tremaining: 10.1s\n",
      "29:\tlearn: 1.2129150\ttotal: 4.24s\tremaining: 9.89s\n",
      "30:\tlearn: 1.2092013\ttotal: 4.37s\tremaining: 9.72s\n",
      "31:\tlearn: 1.2061643\ttotal: 4.5s\tremaining: 9.56s\n",
      "32:\tlearn: 1.2029091\ttotal: 4.63s\tremaining: 9.4s\n",
      "33:\tlearn: 1.2005818\ttotal: 4.76s\tremaining: 9.25s\n",
      "34:\tlearn: 1.1982945\ttotal: 4.92s\tremaining: 9.13s\n",
      "35:\tlearn: 1.1955450\ttotal: 5.08s\tremaining: 9.04s\n",
      "36:\tlearn: 1.1938268\ttotal: 5.24s\tremaining: 8.92s\n",
      "37:\tlearn: 1.1913665\ttotal: 5.41s\tremaining: 8.82s\n",
      "38:\tlearn: 1.1892578\ttotal: 5.56s\tremaining: 8.69s\n",
      "39:\tlearn: 1.1876218\ttotal: 5.7s\tremaining: 8.56s\n",
      "40:\tlearn: 1.1858249\ttotal: 5.85s\tremaining: 8.42s\n",
      "41:\tlearn: 1.1837942\ttotal: 6s\tremaining: 8.29s\n",
      "42:\tlearn: 1.1824748\ttotal: 6.15s\tremaining: 8.15s\n",
      "43:\tlearn: 1.1813064\ttotal: 6.29s\tremaining: 8.01s\n",
      "44:\tlearn: 1.1801113\ttotal: 6.43s\tremaining: 7.86s\n",
      "45:\tlearn: 1.1783290\ttotal: 6.57s\tremaining: 7.71s\n",
      "46:\tlearn: 1.1764676\ttotal: 6.7s\tremaining: 7.56s\n",
      "47:\tlearn: 1.1752593\ttotal: 6.83s\tremaining: 7.4s\n",
      "48:\tlearn: 1.1742940\ttotal: 6.96s\tremaining: 7.25s\n",
      "49:\tlearn: 1.1736738\ttotal: 7.09s\tremaining: 7.09s\n",
      "50:\tlearn: 1.1726774\ttotal: 7.23s\tremaining: 6.95s\n",
      "51:\tlearn: 1.1717093\ttotal: 7.36s\tremaining: 6.8s\n",
      "52:\tlearn: 1.1707712\ttotal: 7.5s\tremaining: 6.66s\n",
      "53:\tlearn: 1.1695600\ttotal: 7.64s\tremaining: 6.51s\n",
      "54:\tlearn: 1.1689502\ttotal: 7.78s\tremaining: 6.36s\n",
      "55:\tlearn: 1.1683502\ttotal: 7.92s\tremaining: 6.22s\n",
      "56:\tlearn: 1.1675103\ttotal: 8.08s\tremaining: 6.1s\n",
      "57:\tlearn: 1.1666887\ttotal: 8.23s\tremaining: 5.96s\n",
      "58:\tlearn: 1.1661820\ttotal: 8.38s\tremaining: 5.83s\n",
      "59:\tlearn: 1.1653078\ttotal: 8.54s\tremaining: 5.69s\n",
      "60:\tlearn: 1.1645650\ttotal: 8.69s\tremaining: 5.56s\n",
      "61:\tlearn: 1.1641133\ttotal: 8.84s\tremaining: 5.42s\n",
      "62:\tlearn: 1.1628607\ttotal: 8.98s\tremaining: 5.28s\n",
      "63:\tlearn: 1.1622988\ttotal: 9.13s\tremaining: 5.14s\n",
      "64:\tlearn: 1.1614104\ttotal: 9.27s\tremaining: 4.99s\n",
      "65:\tlearn: 1.1605110\ttotal: 9.41s\tremaining: 4.84s\n",
      "66:\tlearn: 1.1599092\ttotal: 9.58s\tremaining: 4.72s\n",
      "67:\tlearn: 1.1593822\ttotal: 9.74s\tremaining: 4.58s\n",
      "68:\tlearn: 1.1586346\ttotal: 9.92s\tremaining: 4.46s\n",
      "69:\tlearn: 1.1578739\ttotal: 10.1s\tremaining: 4.31s\n",
      "70:\tlearn: 1.1574104\ttotal: 10.2s\tremaining: 4.17s\n",
      "71:\tlearn: 1.1568520\ttotal: 10.3s\tremaining: 4.02s\n",
      "72:\tlearn: 1.1561234\ttotal: 10.5s\tremaining: 3.87s\n",
      "73:\tlearn: 1.1555483\ttotal: 10.6s\tremaining: 3.73s\n",
      "74:\tlearn: 1.1547312\ttotal: 10.7s\tremaining: 3.58s\n",
      "75:\tlearn: 1.1541259\ttotal: 10.9s\tremaining: 3.43s\n",
      "76:\tlearn: 1.1538349\ttotal: 11s\tremaining: 3.29s\n",
      "77:\tlearn: 1.1532618\ttotal: 11.2s\tremaining: 3.15s\n",
      "78:\tlearn: 1.1529118\ttotal: 11.3s\tremaining: 3.01s\n",
      "79:\tlearn: 1.1523799\ttotal: 11.5s\tremaining: 2.87s\n",
      "80:\tlearn: 1.1516890\ttotal: 11.6s\tremaining: 2.73s\n",
      "81:\tlearn: 1.1511660\ttotal: 11.8s\tremaining: 2.58s\n",
      "82:\tlearn: 1.1509271\ttotal: 11.9s\tremaining: 2.44s\n",
      "83:\tlearn: 1.1504023\ttotal: 12.1s\tremaining: 2.3s\n",
      "84:\tlearn: 1.1501453\ttotal: 12.3s\tremaining: 2.16s\n",
      "85:\tlearn: 1.1497835\ttotal: 12.5s\tremaining: 2.03s\n",
      "86:\tlearn: 1.1493166\ttotal: 12.6s\tremaining: 1.88s\n",
      "87:\tlearn: 1.1491115\ttotal: 12.7s\tremaining: 1.74s\n",
      "88:\tlearn: 1.1485693\ttotal: 12.9s\tremaining: 1.59s\n",
      "89:\tlearn: 1.1483433\ttotal: 13s\tremaining: 1.44s\n",
      "90:\tlearn: 1.1480385\ttotal: 13.1s\tremaining: 1.3s\n",
      "91:\tlearn: 1.1477933\ttotal: 13.3s\tremaining: 1.15s\n",
      "92:\tlearn: 1.1473453\ttotal: 13.4s\tremaining: 1.01s\n",
      "93:\tlearn: 1.1469249\ttotal: 13.5s\tremaining: 864ms\n",
      "94:\tlearn: 1.1465674\ttotal: 13.7s\tremaining: 719ms\n",
      "95:\tlearn: 1.1462840\ttotal: 13.8s\tremaining: 575ms\n",
      "96:\tlearn: 1.1459105\ttotal: 13.9s\tremaining: 431ms\n",
      "97:\tlearn: 1.1454699\ttotal: 14.1s\tremaining: 288ms\n",
      "98:\tlearn: 1.1450334\ttotal: 14.3s\tremaining: 144ms\n",
      "99:\tlearn: 1.1446873\ttotal: 14.4s\tremaining: 0us\n"
     ]
    }
   ],
   "source": [
    "combined_catboost_cl = CatBoostClassifier(**param['catboost'], verbose=True, random_state=42)\n",
    "combined_catboost_cl.fit(X_train_combine.select_dtypes(exclude='object'), y_train, early_stopping_rounds=100)\n",
    "com_catboost_pred = combined_catboost_cl.predict(X_test_combine.select_dtypes(exclude='object'))"
   ]
  },
  {
   "cell_type": "code",
   "execution_count": 124,
   "metadata": {},
   "outputs": [],
   "source": [
    "pred['combined_catboost_cl'] = com_catboost_pred.squeeze(1)"
   ]
  },
  {
   "cell_type": "code",
   "execution_count": 125,
   "metadata": {},
   "outputs": [
    {
     "name": "stdout",
     "output_type": "stream",
     "text": [
      "RMSE of Combined Catboost Classifier : 2.316\n"
     ]
    }
   ],
   "source": [
    "rmse_v = rmse(y_test,com_catboost_pred.squeeze(1))\n",
    "score['combined_catboost_cl'] = rmse_v\n",
    "print(f\"RMSE of Combined Catboost Classifier : {round(rmse_v,4)}\")"
   ]
  },
  {
   "cell_type": "code",
   "execution_count": 126,
   "metadata": {},
   "outputs": [
    {
     "name": "stdout",
     "output_type": "stream",
     "text": [
      "Feature combine improved RMSE -0.2935\n"
     ]
    }
   ],
   "source": [
    "improved = rmse_v - score['catboost_cl']\n",
    "print(f'Feature combine improved RMSE {round(improved,4)}')"
   ]
  },
  {
   "attachments": {},
   "cell_type": "markdown",
   "metadata": {},
   "source": [
    "### Mixed\n",
    "\n",
    "일반적인 Mixed 형식의 하이브리드 접근법은 Ranking 문제에서 주로 사용하는 방식입니다.\n",
    "예를 들어, top k를 추천할 때 n개의 모델에서 나온 item을 각각 섞어 k개를 선정하는 것을 들 수 있습니다.\n",
    "\n",
    "prediction\n",
    "을 목적으로 진행하는 이번 과제에서는 일반적인 mixed 형식은 어렵습니다.\n",
    "이에 따라, 이번 미션에서는 케이스 별 모델에서 도출한 pred rating을 섞어 최종 결과로 사용하는 방식의 개량된 mixed approach에 대해 알아보겠습니다."
   ]
  },
  {
   "attachments": {},
   "cell_type": "markdown",
   "metadata": {},
   "source": [
    "#### Case 분화"
   ]
  },
  {
   "attachments": {},
   "cell_type": "markdown",
   "metadata": {},
   "source": [
    "예시를 위해 pulication이 2000년 미만인 경우(20세기)와 이후인 경우(21세기)를 분화하여, 각각 다른 모델을 섞어보도록 하겠습니다."
   ]
  },
  {
   "cell_type": "code",
   "execution_count": 127,
   "metadata": {},
   "outputs": [],
   "source": [
    "X_train_combine_21cent = X_train_combine[~(X_train_combine['year_of_publication'] < 2000)].copy().reset_index(drop=True)\n",
    "X_train_combine_20cent = X_train_combine[X_train_combine['year_of_publication'] < 2000].copy().reset_index(drop=True)"
   ]
  },
  {
   "cell_type": "code",
   "execution_count": 128,
   "metadata": {},
   "outputs": [],
   "source": [
    "y_train_21cent = y_train[~(X_train_combine['year_of_publication'] < 2000)].copy().reset_index(drop=True)\n",
    "y_train_20cent = y_train[X_train_combine['year_of_publication'] < 2000].copy().reset_index(drop=True)"
   ]
  },
  {
   "cell_type": "code",
   "execution_count": 129,
   "metadata": {},
   "outputs": [],
   "source": [
    "X_test_combine_21cent = X_test_combine[~(X_test_combine['year_of_publication'] < 2000)].copy().reset_index(drop=True)\n",
    "X_test_combine_20cent = X_test_combine[X_test_combine['year_of_publication'] < 2000].copy().reset_index(drop=True)"
   ]
  },
  {
   "cell_type": "code",
   "execution_count": 130,
   "metadata": {},
   "outputs": [],
   "source": [
    "y_test_21cent = y_test[~(X_test_combine['year_of_publication'] < 2000)].copy().reset_index(drop=True)\n",
    "y_test_20cent = y_test[X_test_combine['year_of_publication'] < 2000].copy().reset_index(drop=True)"
   ]
  },
  {
   "cell_type": "code",
   "execution_count": 131,
   "metadata": {},
   "outputs": [
    {
     "name": "stdout",
     "output_type": "stream",
     "text": [
      "[LightGBM] [Warning] Unknown parameter: n_epochs\n",
      "[LightGBM] [Warning] lambda_l2 is set with lambda=0.1, reg_lambda=0.0 will be ignored. Current value: lambda_l2=0.1\n"
     ]
    }
   ],
   "source": [
    "# 20세기\n",
    "lgbm_20cent = LGBMClassifier(**param['lgbm'] , random_state=42)\n",
    "lgbm_20cent.fit(X_train_combine_20cent.select_dtypes(exclude='object'), y_train_20cent)\n",
    "lgbm_20cent_pred = lgbm_20cent.predict(X_test_combine_20cent.select_dtypes(exclude='object'))"
   ]
  },
  {
   "cell_type": "code",
   "execution_count": 132,
   "metadata": {},
   "outputs": [
    {
     "name": "stdout",
     "output_type": "stream",
     "text": [
      "0:\tlearn: 2.0736251\ttotal: 59.6ms\tremaining: 5.9s\n",
      "1:\tlearn: 1.9138721\ttotal: 124ms\tremaining: 6.07s\n",
      "2:\tlearn: 1.8040867\ttotal: 186ms\tremaining: 6.03s\n",
      "3:\tlearn: 1.7150084\ttotal: 248ms\tremaining: 5.94s\n",
      "4:\tlearn: 1.6455184\ttotal: 313ms\tremaining: 5.94s\n",
      "5:\tlearn: 1.5872979\ttotal: 372ms\tremaining: 5.83s\n",
      "6:\tlearn: 1.5359985\ttotal: 431ms\tremaining: 5.73s\n",
      "7:\tlearn: 1.4957374\ttotal: 491ms\tremaining: 5.65s\n",
      "8:\tlearn: 1.4596220\ttotal: 552ms\tremaining: 5.58s\n",
      "9:\tlearn: 1.4280333\ttotal: 613ms\tremaining: 5.51s\n",
      "10:\tlearn: 1.4005327\ttotal: 676ms\tremaining: 5.47s\n",
      "11:\tlearn: 1.3773692\ttotal: 736ms\tremaining: 5.4s\n",
      "12:\tlearn: 1.3584547\ttotal: 793ms\tremaining: 5.31s\n",
      "13:\tlearn: 1.3394524\ttotal: 848ms\tremaining: 5.21s\n",
      "14:\tlearn: 1.3228239\ttotal: 904ms\tremaining: 5.12s\n",
      "15:\tlearn: 1.3074713\ttotal: 961ms\tremaining: 5.04s\n",
      "16:\tlearn: 1.2941007\ttotal: 1.02s\tremaining: 5s\n",
      "17:\tlearn: 1.2833068\ttotal: 1.1s\tremaining: 5s\n",
      "18:\tlearn: 1.2727956\ttotal: 1.15s\tremaining: 4.91s\n",
      "19:\tlearn: 1.2638197\ttotal: 1.21s\tremaining: 4.82s\n",
      "20:\tlearn: 1.2552833\ttotal: 1.26s\tremaining: 4.74s\n",
      "21:\tlearn: 1.2488908\ttotal: 1.32s\tremaining: 4.67s\n",
      "22:\tlearn: 1.2430507\ttotal: 1.38s\tremaining: 4.62s\n",
      "23:\tlearn: 1.2363215\ttotal: 1.43s\tremaining: 4.53s\n",
      "24:\tlearn: 1.2303844\ttotal: 1.48s\tremaining: 4.44s\n",
      "25:\tlearn: 1.2250182\ttotal: 1.53s\tremaining: 4.35s\n",
      "26:\tlearn: 1.2206097\ttotal: 1.58s\tremaining: 4.27s\n",
      "27:\tlearn: 1.2158934\ttotal: 1.63s\tremaining: 4.19s\n",
      "28:\tlearn: 1.2114026\ttotal: 1.69s\tremaining: 4.14s\n",
      "29:\tlearn: 1.2080332\ttotal: 1.75s\tremaining: 4.08s\n",
      "30:\tlearn: 1.2044135\ttotal: 1.8s\tremaining: 4.02s\n",
      "31:\tlearn: 1.2011889\ttotal: 1.86s\tremaining: 3.96s\n",
      "32:\tlearn: 1.1987065\ttotal: 1.92s\tremaining: 3.9s\n",
      "33:\tlearn: 1.1966402\ttotal: 1.98s\tremaining: 3.83s\n",
      "34:\tlearn: 1.1943055\ttotal: 2.03s\tremaining: 3.78s\n",
      "35:\tlearn: 1.1926623\ttotal: 2.08s\tremaining: 3.7s\n",
      "36:\tlearn: 1.1902476\ttotal: 2.13s\tremaining: 3.63s\n",
      "37:\tlearn: 1.1882211\ttotal: 2.19s\tremaining: 3.57s\n",
      "38:\tlearn: 1.1866649\ttotal: 2.24s\tremaining: 3.51s\n",
      "39:\tlearn: 1.1849960\ttotal: 2.31s\tremaining: 3.46s\n",
      "40:\tlearn: 1.1826391\ttotal: 2.36s\tremaining: 3.4s\n",
      "41:\tlearn: 1.1815501\ttotal: 2.42s\tremaining: 3.34s\n",
      "42:\tlearn: 1.1795091\ttotal: 2.47s\tremaining: 3.27s\n",
      "43:\tlearn: 1.1777602\ttotal: 2.52s\tremaining: 3.21s\n",
      "44:\tlearn: 1.1764058\ttotal: 2.59s\tremaining: 3.17s\n",
      "45:\tlearn: 1.1750928\ttotal: 2.65s\tremaining: 3.11s\n",
      "46:\tlearn: 1.1728504\ttotal: 2.7s\tremaining: 3.05s\n",
      "47:\tlearn: 1.1719494\ttotal: 2.76s\tremaining: 2.99s\n",
      "48:\tlearn: 1.1709248\ttotal: 2.83s\tremaining: 2.95s\n",
      "49:\tlearn: 1.1697483\ttotal: 2.89s\tremaining: 2.89s\n",
      "50:\tlearn: 1.1687562\ttotal: 2.95s\tremaining: 2.83s\n",
      "51:\tlearn: 1.1674846\ttotal: 3.01s\tremaining: 2.78s\n",
      "52:\tlearn: 1.1660899\ttotal: 3.07s\tremaining: 2.72s\n",
      "53:\tlearn: 1.1653277\ttotal: 3.13s\tremaining: 2.67s\n",
      "54:\tlearn: 1.1641869\ttotal: 3.19s\tremaining: 2.61s\n",
      "55:\tlearn: 1.1631020\ttotal: 3.25s\tremaining: 2.56s\n",
      "56:\tlearn: 1.1618055\ttotal: 3.31s\tremaining: 2.5s\n",
      "57:\tlearn: 1.1608086\ttotal: 3.37s\tremaining: 2.44s\n",
      "58:\tlearn: 1.1597492\ttotal: 3.43s\tremaining: 2.38s\n",
      "59:\tlearn: 1.1589666\ttotal: 3.49s\tremaining: 2.33s\n",
      "60:\tlearn: 1.1582817\ttotal: 3.55s\tremaining: 2.27s\n",
      "61:\tlearn: 1.1575893\ttotal: 3.61s\tremaining: 2.21s\n",
      "62:\tlearn: 1.1562714\ttotal: 3.67s\tremaining: 2.16s\n",
      "63:\tlearn: 1.1555736\ttotal: 3.73s\tremaining: 2.1s\n",
      "64:\tlearn: 1.1548018\ttotal: 3.79s\tremaining: 2.04s\n",
      "65:\tlearn: 1.1541263\ttotal: 3.85s\tremaining: 1.98s\n",
      "66:\tlearn: 1.1530254\ttotal: 3.91s\tremaining: 1.93s\n",
      "67:\tlearn: 1.1521128\ttotal: 3.97s\tremaining: 1.87s\n",
      "68:\tlearn: 1.1510026\ttotal: 4.03s\tremaining: 1.81s\n",
      "69:\tlearn: 1.1502388\ttotal: 4.08s\tremaining: 1.75s\n",
      "70:\tlearn: 1.1491430\ttotal: 4.14s\tremaining: 1.69s\n",
      "71:\tlearn: 1.1483318\ttotal: 4.2s\tremaining: 1.63s\n",
      "72:\tlearn: 1.1473799\ttotal: 4.27s\tremaining: 1.58s\n",
      "73:\tlearn: 1.1467361\ttotal: 4.32s\tremaining: 1.52s\n",
      "74:\tlearn: 1.1464414\ttotal: 4.37s\tremaining: 1.46s\n",
      "75:\tlearn: 1.1454047\ttotal: 4.43s\tremaining: 1.4s\n",
      "76:\tlearn: 1.1448630\ttotal: 4.48s\tremaining: 1.34s\n",
      "77:\tlearn: 1.1439384\ttotal: 4.54s\tremaining: 1.28s\n",
      "78:\tlearn: 1.1433496\ttotal: 4.59s\tremaining: 1.22s\n",
      "79:\tlearn: 1.1428000\ttotal: 4.65s\tremaining: 1.16s\n",
      "80:\tlearn: 1.1418556\ttotal: 4.71s\tremaining: 1.1s\n",
      "81:\tlearn: 1.1410607\ttotal: 4.77s\tremaining: 1.05s\n",
      "82:\tlearn: 1.1406994\ttotal: 4.82s\tremaining: 987ms\n",
      "83:\tlearn: 1.1401047\ttotal: 4.87s\tremaining: 927ms\n",
      "84:\tlearn: 1.1400167\ttotal: 4.89s\tremaining: 863ms\n",
      "85:\tlearn: 1.1394533\ttotal: 4.94s\tremaining: 804ms\n",
      "86:\tlearn: 1.1387507\ttotal: 4.99s\tremaining: 746ms\n",
      "87:\tlearn: 1.1380421\ttotal: 5.04s\tremaining: 688ms\n",
      "88:\tlearn: 1.1374269\ttotal: 5.09s\tremaining: 630ms\n",
      "89:\tlearn: 1.1370686\ttotal: 5.15s\tremaining: 572ms\n",
      "90:\tlearn: 1.1362586\ttotal: 5.2s\tremaining: 514ms\n",
      "91:\tlearn: 1.1355318\ttotal: 5.25s\tremaining: 457ms\n",
      "92:\tlearn: 1.1347565\ttotal: 5.3s\tremaining: 399ms\n",
      "93:\tlearn: 1.1341793\ttotal: 5.36s\tremaining: 342ms\n",
      "94:\tlearn: 1.1338994\ttotal: 5.42s\tremaining: 285ms\n",
      "95:\tlearn: 1.1334445\ttotal: 5.48s\tremaining: 228ms\n",
      "96:\tlearn: 1.1327822\ttotal: 5.54s\tremaining: 171ms\n",
      "97:\tlearn: 1.1322527\ttotal: 5.6s\tremaining: 114ms\n",
      "98:\tlearn: 1.1317031\ttotal: 5.66s\tremaining: 57.1ms\n",
      "99:\tlearn: 1.1311796\ttotal: 5.71s\tremaining: 0us\n"
     ]
    }
   ],
   "source": [
    "# 21세기\n",
    "catboost_21cent = CatBoostClassifier(**param['catboost'] , random_state=42)\n",
    "catboost_21cent.fit(X_train_combine_21cent.select_dtypes(exclude='object'), y_train_21cent)\n",
    "catboost_21cent_pred = catboost_21cent.predict(X_test_combine_21cent.select_dtypes(exclude='object'))"
   ]
  },
  {
   "attachments": {},
   "cell_type": "markdown",
   "metadata": {},
   "source": [
    "#### 성능평가"
   ]
  },
  {
   "cell_type": "code",
   "execution_count": 133,
   "metadata": {},
   "outputs": [
    {
     "data": {
      "text/plain": [
       "{'svd': 2.2151653244307097,\n",
       " 'coclu': 2.5070737129167298,\n",
       " 'lgbm_cl': 2.586211332472691,\n",
       " 'lgbm_r': 2.3655060685545086,\n",
       " 'catboost_cl': 2.609467172876271,\n",
       " 'catboost_r': 2.3619752329052064,\n",
       " 'opt_weight': 2.2106677121571767,\n",
       " 'combined_lgbm_cl': 2.318321584877498,\n",
       " 'combined_catboost_cl': 2.315968895495143}"
      ]
     },
     "execution_count": 133,
     "metadata": {},
     "output_type": "execute_result"
    }
   ],
   "source": [
    "score"
   ]
  },
  {
   "attachments": {},
   "cell_type": "markdown",
   "metadata": {},
   "source": [
    "20세기의 경우, combined_lgbm_cl 보다 성능이 향상되지 않아, 다른 방식의 접근이 필요함을 알 수 있습니다."
   ]
  },
  {
   "cell_type": "code",
   "execution_count": 134,
   "metadata": {},
   "outputs": [
    {
     "name": "stdout",
     "output_type": "stream",
     "text": [
      "RMSE of Combined LGBM Classifier (CASE 20 Century): 2.3195\n"
     ]
    }
   ],
   "source": [
    "rmse_v = rmse(y_test_20cent,lgbm_20cent_pred)\n",
    "print(f\"RMSE of Combined LGBM Classifier (CASE 20 Century): {round(rmse_v,4)}\")"
   ]
  },
  {
   "cell_type": "code",
   "execution_count": 135,
   "metadata": {},
   "outputs": [
    {
     "name": "stdout",
     "output_type": "stream",
     "text": [
      "Mixed improved RMSE 0.0011\n"
     ]
    }
   ],
   "source": [
    "improved = rmse_v - score['combined_lgbm_cl']\n",
    "print(f'Mixed improved RMSE {round(improved,4)}')"
   ]
  },
  {
   "attachments": {},
   "cell_type": "markdown",
   "metadata": {},
   "source": [
    "21세기의 경우, combined_catboost_cl보다 평가 지표가 소폭 향상되었음을 확인할 수 있습니다."
   ]
  },
  {
   "cell_type": "code",
   "execution_count": 136,
   "metadata": {},
   "outputs": [
    {
     "name": "stdout",
     "output_type": "stream",
     "text": [
      "RMSE of Combined catboost Classifier (CASE 21 Century): 2.3121\n"
     ]
    }
   ],
   "source": [
    "rmse_v = rmse(y_test_21cent, catboost_21cent_pred.squeeze())\n",
    "print(f\"RMSE of Combined catboost Classifier (CASE 21 Century): {round(rmse_v,4)}\")"
   ]
  },
  {
   "cell_type": "code",
   "execution_count": 137,
   "metadata": {},
   "outputs": [
    {
     "name": "stdout",
     "output_type": "stream",
     "text": [
      "Mixed improved RMSE -0.0039\n"
     ]
    }
   ],
   "source": [
    "improved = rmse_v - score['combined_catboost_cl']\n",
    "print(f'Mixed improved RMSE {round(improved,4)}')"
   ]
  },
  {
   "attachments": {},
   "cell_type": "markdown",
   "metadata": {},
   "source": [
    "## 결론\n",
    "\n",
    "Hybrids 시스템은 전반적으로 강력한 시스템을 만드는 장점을 가지고 있습니다. 여기서 제시된 다양한 방법들은 추천시스템의 편향을 줄이거나 다양성을 통합하기 위해 사용됩니다.\n",
    "\n",
    "Hybrid Approach 또한 한가지 접근법만을 적용하는 것이 아닌 중첩하여 다양한 방식을 적용할 수도 있습니다.\n",
    "\n",
    "최종적으로 Weighted, Feature Combine 방식을 모두 적용한 최종 output에 대해 살펴 보겠습니다."
   ]
  },
  {
   "cell_type": "code",
   "execution_count": 138,
   "metadata": {},
   "outputs": [
    {
     "data": {
      "text/plain": [
       "{'svd': 2.2151653244307097,\n",
       " 'coclu': 2.5070737129167298,\n",
       " 'lgbm_cl': 2.586211332472691,\n",
       " 'lgbm_r': 2.3655060685545086,\n",
       " 'catboost_cl': 2.609467172876271,\n",
       " 'catboost_r': 2.3619752329052064,\n",
       " 'opt_weight': 2.2106677121571767,\n",
       " 'combined_lgbm_cl': 2.318321584877498,\n",
       " 'combined_catboost_cl': 2.315968895495143}"
      ]
     },
     "execution_count": 138,
     "metadata": {},
     "output_type": "execute_result"
    }
   ],
   "source": [
    "score"
   ]
  },
  {
   "cell_type": "code",
   "execution_count": 168,
   "metadata": {},
   "outputs": [
    {
     "name": "stdout",
     "output_type": "stream",
     "text": [
      "RMSE 2.4 이하 모델 활용 : ['svd', 'lgbm_r', 'catboost_r', 'opt_weight', 'combined_lgbm_cl', 'combined_catboost_cl', 'opt_weighted_pred_final']\n"
     ]
    }
   ],
   "source": [
    "threshold = 2.4\n",
    "suitable_models = find_suitable_model(score,threshold)\n",
    "print(f\"RMSE {threshold} 이하 모델 활용 : {suitable_models}\")"
   ]
  },
  {
   "cell_type": "code",
   "execution_count": 169,
   "metadata": {},
   "outputs": [],
   "source": [
    "final_output_list = [pred[m] for m in suitable_models]"
   ]
  },
  {
   "cell_type": "code",
   "execution_count": 170,
   "metadata": {},
   "outputs": [],
   "source": [
    "opt_w_f = optimal_weighted(final_output_list,n=100)"
   ]
  },
  {
   "cell_type": "code",
   "execution_count": 171,
   "metadata": {},
   "outputs": [
    {
     "data": {
      "text/plain": [
       "array([0.43721566, 0.08859297, 0.06833729, 0.10788805, 0.03090066,\n",
       "       0.26341569, 0.00364968])"
      ]
     },
     "execution_count": 171,
     "metadata": {},
     "output_type": "execute_result"
    }
   ],
   "source": [
    "opt_w_f['weight']"
   ]
  },
  {
   "cell_type": "code",
   "execution_count": 172,
   "metadata": {},
   "outputs": [],
   "source": [
    "opt_weighted_pred_final = simple_weighted(final_output_list,\n",
    "                                    weight=opt_w_f['weight'])"
   ]
  },
  {
   "cell_type": "code",
   "execution_count": 173,
   "metadata": {},
   "outputs": [
    {
     "name": "stdout",
     "output_type": "stream",
     "text": [
      "RMSE of Optimal Weighted : 2.2073\n"
     ]
    }
   ],
   "source": [
    "rmse_v = rmse(y_test, opt_weighted_pred_final)\n",
    "score['opt_weighted_pred_final'] = rmse_v\n",
    "print(f\"RMSE of Optimal Weighted : {round(rmse_v,4)}\")"
   ]
  },
  {
   "cell_type": "code",
   "execution_count": 174,
   "metadata": {},
   "outputs": [
    {
     "data": {
      "text/plain": [
       "array([8.43298896, 7.84542971, 8.99877543, ..., 7.00532929, 7.04898328,\n",
       "       9.57691082])"
      ]
     },
     "execution_count": 174,
     "metadata": {},
     "output_type": "execute_result"
    }
   ],
   "source": [
    "pred['opt_weighted_pred_final'] = opt_weighted_pred_final\n",
    "pred['opt_weighted_pred_final']"
   ]
  },
  {
   "cell_type": "code",
   "execution_count": 175,
   "metadata": {},
   "outputs": [
    {
     "data": {
      "text/plain": [
       "(61359,)"
      ]
     },
     "execution_count": 175,
     "metadata": {},
     "output_type": "execute_result"
    }
   ],
   "source": [
    "pred['opt_weighted_pred_final'].shape"
   ]
  },
  {
   "cell_type": "code",
   "execution_count": 176,
   "metadata": {},
   "outputs": [
    {
     "data": {
      "text/plain": [
       "{'svd': 2.2151653244307097,\n",
       " 'coclu': 2.5070737129167298,\n",
       " 'lgbm_cl': 2.586211332472691,\n",
       " 'lgbm_r': 2.3655060685545086,\n",
       " 'catboost_cl': 2.609467172876271,\n",
       " 'catboost_r': 2.3619752329052064,\n",
       " 'opt_weight': 2.2106677121571767,\n",
       " 'combined_lgbm_cl': 2.318321584877498,\n",
       " 'combined_catboost_cl': 2.315968895495143,\n",
       " 'opt_weighted_pred_final': 2.20729427466624}"
      ]
     },
     "execution_count": 176,
     "metadata": {},
     "output_type": "execute_result"
    }
   ],
   "source": [
    "score"
   ]
  },
  {
   "cell_type": "code",
   "execution_count": null,
   "metadata": {},
   "outputs": [],
   "source": [
    "sub = pd.read_csv('/opt/ml/data/sample_submission.csv')"
   ]
  },
  {
   "cell_type": "code",
   "execution_count": 181,
   "metadata": {},
   "outputs": [
    {
     "ename": "ValueError",
     "evalue": "Length of values (61359) does not match length of index (76699)",
     "output_type": "error",
     "traceback": [
      "\u001b[0;31m---------------------------------------------------------------------------\u001b[0m",
      "\u001b[0;31mValueError\u001b[0m                                Traceback (most recent call last)",
      "\u001b[1;32m/opt/ml/book_recommend_system/hybrid_Approach.ipynb 셀 175\u001b[0m in \u001b[0;36m<cell line: 1>\u001b[0;34m()\u001b[0m\n\u001b[0;32m----> <a href='vscode-notebook-cell://ssh-remote%2B101.101.217.155/opt/ml/book_recommend_system/hybrid_Approach.ipynb#Y336sdnNjb2RlLXJlbW90ZQ%3D%3D?line=0'>1</a>\u001b[0m sub[\u001b[39m'\u001b[39;49m\u001b[39mrating\u001b[39;49m\u001b[39m'\u001b[39;49m] \u001b[39m=\u001b[39m pred[\u001b[39m'\u001b[39m\u001b[39mopt_weighted_pred_final\u001b[39m\u001b[39m'\u001b[39m]\n",
      "File \u001b[0;32m/opt/conda/envs/book_recsys/lib/python3.8/site-packages/pandas/core/frame.py:3980\u001b[0m, in \u001b[0;36mDataFrame.__setitem__\u001b[0;34m(self, key, value)\u001b[0m\n\u001b[1;32m   3977\u001b[0m     \u001b[39mself\u001b[39m\u001b[39m.\u001b[39m_setitem_array([key], value)\n\u001b[1;32m   3978\u001b[0m \u001b[39melse\u001b[39;00m:\n\u001b[1;32m   3979\u001b[0m     \u001b[39m# set column\u001b[39;00m\n\u001b[0;32m-> 3980\u001b[0m     \u001b[39mself\u001b[39;49m\u001b[39m.\u001b[39;49m_set_item(key, value)\n",
      "File \u001b[0;32m/opt/conda/envs/book_recsys/lib/python3.8/site-packages/pandas/core/frame.py:4174\u001b[0m, in \u001b[0;36mDataFrame._set_item\u001b[0;34m(self, key, value)\u001b[0m\n\u001b[1;32m   4164\u001b[0m \u001b[39mdef\u001b[39;00m \u001b[39m_set_item\u001b[39m(\u001b[39mself\u001b[39m, key, value) \u001b[39m-\u001b[39m\u001b[39m>\u001b[39m \u001b[39mNone\u001b[39;00m:\n\u001b[1;32m   4165\u001b[0m \u001b[39m    \u001b[39m\u001b[39m\"\"\"\u001b[39;00m\n\u001b[1;32m   4166\u001b[0m \u001b[39m    Add series to DataFrame in specified column.\u001b[39;00m\n\u001b[1;32m   4167\u001b[0m \n\u001b[0;32m   (...)\u001b[0m\n\u001b[1;32m   4172\u001b[0m \u001b[39m    ensure homogeneity.\u001b[39;00m\n\u001b[1;32m   4173\u001b[0m \u001b[39m    \"\"\"\u001b[39;00m\n\u001b[0;32m-> 4174\u001b[0m     value \u001b[39m=\u001b[39m \u001b[39mself\u001b[39;49m\u001b[39m.\u001b[39;49m_sanitize_column(value)\n\u001b[1;32m   4176\u001b[0m     \u001b[39mif\u001b[39;00m (\n\u001b[1;32m   4177\u001b[0m         key \u001b[39min\u001b[39;00m \u001b[39mself\u001b[39m\u001b[39m.\u001b[39mcolumns\n\u001b[1;32m   4178\u001b[0m         \u001b[39mand\u001b[39;00m value\u001b[39m.\u001b[39mndim \u001b[39m==\u001b[39m \u001b[39m1\u001b[39m\n\u001b[1;32m   4179\u001b[0m         \u001b[39mand\u001b[39;00m \u001b[39mnot\u001b[39;00m is_extension_array_dtype(value)\n\u001b[1;32m   4180\u001b[0m     ):\n\u001b[1;32m   4181\u001b[0m         \u001b[39m# broadcast across multiple columns if necessary\u001b[39;00m\n\u001b[1;32m   4182\u001b[0m         \u001b[39mif\u001b[39;00m \u001b[39mnot\u001b[39;00m \u001b[39mself\u001b[39m\u001b[39m.\u001b[39mcolumns\u001b[39m.\u001b[39mis_unique \u001b[39mor\u001b[39;00m \u001b[39misinstance\u001b[39m(\u001b[39mself\u001b[39m\u001b[39m.\u001b[39mcolumns, MultiIndex):\n",
      "File \u001b[0;32m/opt/conda/envs/book_recsys/lib/python3.8/site-packages/pandas/core/frame.py:4915\u001b[0m, in \u001b[0;36mDataFrame._sanitize_column\u001b[0;34m(self, value)\u001b[0m\n\u001b[1;32m   4912\u001b[0m     \u001b[39mreturn\u001b[39;00m _reindex_for_setitem(Series(value), \u001b[39mself\u001b[39m\u001b[39m.\u001b[39mindex)\n\u001b[1;32m   4914\u001b[0m \u001b[39mif\u001b[39;00m is_list_like(value):\n\u001b[0;32m-> 4915\u001b[0m     com\u001b[39m.\u001b[39;49mrequire_length_match(value, \u001b[39mself\u001b[39;49m\u001b[39m.\u001b[39;49mindex)\n\u001b[1;32m   4916\u001b[0m \u001b[39mreturn\u001b[39;00m sanitize_array(value, \u001b[39mself\u001b[39m\u001b[39m.\u001b[39mindex, copy\u001b[39m=\u001b[39m\u001b[39mTrue\u001b[39;00m, allow_2d\u001b[39m=\u001b[39m\u001b[39mTrue\u001b[39;00m)\n",
      "File \u001b[0;32m/opt/conda/envs/book_recsys/lib/python3.8/site-packages/pandas/core/common.py:571\u001b[0m, in \u001b[0;36mrequire_length_match\u001b[0;34m(data, index)\u001b[0m\n\u001b[1;32m    567\u001b[0m \u001b[39m\u001b[39m\u001b[39m\"\"\"\u001b[39;00m\n\u001b[1;32m    568\u001b[0m \u001b[39mCheck the length of data matches the length of the index.\u001b[39;00m\n\u001b[1;32m    569\u001b[0m \u001b[39m\"\"\"\u001b[39;00m\n\u001b[1;32m    570\u001b[0m \u001b[39mif\u001b[39;00m \u001b[39mlen\u001b[39m(data) \u001b[39m!=\u001b[39m \u001b[39mlen\u001b[39m(index):\n\u001b[0;32m--> 571\u001b[0m     \u001b[39mraise\u001b[39;00m \u001b[39mValueError\u001b[39;00m(\n\u001b[1;32m    572\u001b[0m         \u001b[39m\"\u001b[39m\u001b[39mLength of values \u001b[39m\u001b[39m\"\u001b[39m\n\u001b[1;32m    573\u001b[0m         \u001b[39mf\u001b[39m\u001b[39m\"\u001b[39m\u001b[39m(\u001b[39m\u001b[39m{\u001b[39;00m\u001b[39mlen\u001b[39m(data)\u001b[39m}\u001b[39;00m\u001b[39m) \u001b[39m\u001b[39m\"\u001b[39m\n\u001b[1;32m    574\u001b[0m         \u001b[39m\"\u001b[39m\u001b[39mdoes not match length of index \u001b[39m\u001b[39m\"\u001b[39m\n\u001b[1;32m    575\u001b[0m         \u001b[39mf\u001b[39m\u001b[39m\"\u001b[39m\u001b[39m(\u001b[39m\u001b[39m{\u001b[39;00m\u001b[39mlen\u001b[39m(index)\u001b[39m}\u001b[39;00m\u001b[39m)\u001b[39m\u001b[39m\"\u001b[39m\n\u001b[1;32m    576\u001b[0m     )\n",
      "\u001b[0;31mValueError\u001b[0m: Length of values (61359) does not match length of index (76699)"
     ]
    }
   ],
   "source": [
    "sub['rating'] = pred['opt_weighted_pred_final']"
   ]
  },
  {
   "cell_type": "code",
   "execution_count": null,
   "metadata": {},
   "outputs": [],
   "source": []
  }
 ],
 "metadata": {
  "kernelspec": {
   "display_name": "book_recsys",
   "language": "python",
   "name": "python3"
  },
  "language_info": {
   "codemirror_mode": {
    "name": "ipython",
    "version": 3
   },
   "file_extension": ".py",
   "mimetype": "text/x-python",
   "name": "python",
   "nbconvert_exporter": "python",
   "pygments_lexer": "ipython3",
   "version": "3.8.16"
  },
  "orig_nbformat": 4
 },
 "nbformat": 4,
 "nbformat_minor": 2
}
